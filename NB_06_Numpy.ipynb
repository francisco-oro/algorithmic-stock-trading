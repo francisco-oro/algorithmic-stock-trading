{
 "cells": [
  {
   "cell_type": "code",
   "id": "initial_id",
   "metadata": {
    "collapsed": true,
    "ExecuteTime": {
     "end_time": "2025-01-09T03:50:48.337587Z",
     "start_time": "2025-01-09T03:50:48.334967Z"
    }
   },
   "source": [
    "PV = 100\n",
    "f = 1.03\n",
    "n = 2"
   ],
   "outputs": [],
   "execution_count": 112
  },
  {
   "metadata": {
    "ExecuteTime": {
     "end_time": "2025-01-09T03:50:48.365692Z",
     "start_time": "2025-01-09T03:50:48.359922Z"
    }
   },
   "cell_type": "code",
   "source": [
    "FV  = PV * f**n\n",
    "FV"
   ],
   "id": "311782e4de918d18",
   "outputs": [
    {
     "data": {
      "text/plain": [
       "106.08999999999999"
      ]
     },
     "execution_count": 113,
     "metadata": {},
     "output_type": "execute_result"
    }
   ],
   "execution_count": 113
  },
  {
   "metadata": {
    "ExecuteTime": {
     "end_time": "2025-01-09T03:50:48.397800Z",
     "start_time": "2025-01-09T03:50:48.394144Z"
    }
   },
   "cell_type": "code",
   "source": "import math",
   "id": "baf1c906632e0a15",
   "outputs": [],
   "execution_count": 114
  },
  {
   "metadata": {
    "ExecuteTime": {
     "end_time": "2025-01-09T03:50:48.439435Z",
     "start_time": "2025-01-09T03:50:48.434709Z"
    }
   },
   "cell_type": "code",
   "source": [
    "FV = PV * math.pow(f,n)\n",
    "FV"
   ],
   "id": "640a6a3cdc255d23",
   "outputs": [
    {
     "data": {
      "text/plain": [
       "106.08999999999999"
      ]
     },
     "execution_count": 115,
     "metadata": {},
     "output_type": "execute_result"
    }
   ],
   "execution_count": 115
  },
  {
   "metadata": {
    "ExecuteTime": {
     "end_time": "2025-01-09T03:50:48.489970Z",
     "start_time": "2025-01-09T03:50:48.484858Z"
    }
   },
   "cell_type": "code",
   "source": "math.sqrt(FV/PV) - 1",
   "id": "15ef61dcce9d5f7f",
   "outputs": [
    {
     "data": {
      "text/plain": [
       "0.030000000000000027"
      ]
     },
     "execution_count": 116,
     "metadata": {},
     "output_type": "execute_result"
    }
   ],
   "execution_count": 116
  },
  {
   "metadata": {
    "ExecuteTime": {
     "end_time": "2025-01-09T03:50:48.529222Z",
     "start_time": "2025-01-09T03:50:48.523665Z"
    }
   },
   "cell_type": "code",
   "source": "math.sin(3)",
   "id": "e401e4e190e153b8",
   "outputs": [
    {
     "data": {
      "text/plain": [
       "0.1411200080598672"
      ]
     },
     "execution_count": 117,
     "metadata": {},
     "output_type": "execute_result"
    }
   ],
   "execution_count": 117
  },
  {
   "metadata": {
    "ExecuteTime": {
     "end_time": "2025-01-09T03:50:48.561398Z",
     "start_time": "2025-01-09T03:50:48.555013Z"
    }
   },
   "cell_type": "code",
   "source": "math.e",
   "id": "910abefdb921870f",
   "outputs": [
    {
     "data": {
      "text/plain": [
       "2.718281828459045"
      ]
     },
     "execution_count": 118,
     "metadata": {},
     "output_type": "execute_result"
    }
   ],
   "execution_count": 118
  },
  {
   "metadata": {
    "ExecuteTime": {
     "end_time": "2025-01-09T03:50:48.624491Z",
     "start_time": "2025-01-09T03:50:48.620300Z"
    }
   },
   "cell_type": "code",
   "source": "math.pi",
   "id": "9e9be70b1625504c",
   "outputs": [
    {
     "data": {
      "text/plain": [
       "3.141592653589793"
      ]
     },
     "execution_count": 119,
     "metadata": {},
     "output_type": "execute_result"
    }
   ],
   "execution_count": 119
  },
  {
   "metadata": {
    "ExecuteTime": {
     "end_time": "2025-01-09T03:50:48.662491Z",
     "start_time": "2025-01-09T03:50:48.658208Z"
    }
   },
   "cell_type": "code",
   "source": "import math as ma",
   "id": "9fbff38461940b35",
   "outputs": [],
   "execution_count": 120
  },
  {
   "metadata": {
    "ExecuteTime": {
     "end_time": "2025-01-09T03:50:48.690734Z",
     "start_time": "2025-01-09T03:50:48.684815Z"
    }
   },
   "cell_type": "code",
   "source": "ma.pi",
   "id": "5a396cd0ce360ae5",
   "outputs": [
    {
     "data": {
      "text/plain": [
       "3.141592653589793"
      ]
     },
     "execution_count": 121,
     "metadata": {},
     "output_type": "execute_result"
    }
   ],
   "execution_count": 121
  },
  {
   "metadata": {
    "ExecuteTime": {
     "end_time": "2025-01-09T03:50:48.750319Z",
     "start_time": "2025-01-09T03:50:48.747486Z"
    }
   },
   "cell_type": "code",
   "source": "from math import sqrt",
   "id": "b0b0797cbbe8641c",
   "outputs": [],
   "execution_count": 122
  },
  {
   "metadata": {
    "ExecuteTime": {
     "end_time": "2025-01-09T03:50:48.788380Z",
     "start_time": "2025-01-09T03:50:48.782939Z"
    }
   },
   "cell_type": "code",
   "source": "sqrt(FV/PV) -1",
   "id": "92d5b8ca3b2d4678",
   "outputs": [
    {
     "data": {
      "text/plain": [
       "0.030000000000000027"
      ]
     },
     "execution_count": 123,
     "metadata": {},
     "output_type": "execute_result"
    }
   ],
   "execution_count": 123
  },
  {
   "metadata": {
    "ExecuteTime": {
     "end_time": "2025-01-09T03:50:48.830232Z",
     "start_time": "2025-01-09T03:50:48.826481Z"
    }
   },
   "cell_type": "code",
   "source": "import numpy as np",
   "id": "8a36ffc38c93f32a",
   "outputs": [],
   "execution_count": 124
  },
  {
   "metadata": {
    "ExecuteTime": {
     "end_time": "2025-01-09T03:50:48.876983Z",
     "start_time": "2025-01-09T03:50:48.870321Z"
    }
   },
   "cell_type": "code",
   "source": "np.sqrt(FV/PV)",
   "id": "67285c1deab63d96",
   "outputs": [
    {
     "data": {
      "text/plain": [
       "np.float64(1.03)"
      ]
     },
     "execution_count": 125,
     "metadata": {},
     "output_type": "execute_result"
    }
   ],
   "execution_count": 125
  },
  {
   "metadata": {
    "ExecuteTime": {
     "end_time": "2025-01-09T03:50:48.921702Z",
     "start_time": "2025-01-09T03:50:48.916583Z"
    }
   },
   "cell_type": "code",
   "source": "PV * np.power(f, n)",
   "id": "6e9cdb238ba37280",
   "outputs": [
    {
     "data": {
      "text/plain": [
       "np.float64(106.08999999999999)"
      ]
     },
     "execution_count": 126,
     "metadata": {},
     "output_type": "execute_result"
    }
   ],
   "execution_count": 126
  },
  {
   "metadata": {},
   "cell_type": "markdown",
   "source": "# Numpy Arrays",
   "id": "396e56b772456f8a"
  },
  {
   "metadata": {
    "ExecuteTime": {
     "end_time": "2025-01-09T03:50:48.970013Z",
     "start_time": "2025-01-09T03:50:48.966169Z"
    }
   },
   "cell_type": "code",
   "source": "import numpy as np",
   "id": "5315f0b222084779",
   "outputs": [],
   "execution_count": 127
  },
  {
   "metadata": {
    "ExecuteTime": {
     "end_time": "2025-01-09T03:50:49.005627Z",
     "start_time": "2025-01-09T03:50:48.999619Z"
    }
   },
   "cell_type": "code",
   "source": [
    "cf = [50, 100, 120, 150, 200, 300]\n",
    "cf"
   ],
   "id": "c328a7ce46717762",
   "outputs": [
    {
     "data": {
      "text/plain": [
       "[50, 100, 120, 150, 200, 300]"
      ]
     },
     "execution_count": 128,
     "metadata": {},
     "output_type": "execute_result"
    }
   ],
   "execution_count": 128
  },
  {
   "metadata": {
    "ExecuteTime": {
     "end_time": "2025-01-09T03:50:49.056941Z",
     "start_time": "2025-01-09T03:50:49.050603Z"
    }
   },
   "cell_type": "code",
   "source": [
    "cf_a = np.array(cf)\n",
    "cf_a"
   ],
   "id": "4b476776bd0128a5",
   "outputs": [
    {
     "data": {
      "text/plain": [
       "array([ 50, 100, 120, 150, 200, 300])"
      ]
     },
     "execution_count": 129,
     "metadata": {},
     "output_type": "execute_result"
    }
   ],
   "execution_count": 129
  },
  {
   "metadata": {
    "ExecuteTime": {
     "end_time": "2025-01-09T03:50:49.105940Z",
     "start_time": "2025-01-09T03:50:49.100388Z"
    }
   },
   "cell_type": "code",
   "source": "type(cf_a)",
   "id": "179547c251f262bc",
   "outputs": [
    {
     "data": {
      "text/plain": [
       "numpy.ndarray"
      ]
     },
     "execution_count": 130,
     "metadata": {},
     "output_type": "execute_result"
    }
   ],
   "execution_count": 130
  },
  {
   "metadata": {
    "ExecuteTime": {
     "end_time": "2025-01-09T03:50:49.187900Z",
     "start_time": "2025-01-09T03:50:49.151120Z"
    }
   },
   "cell_type": "code",
   "source": "cf - 20",
   "id": "5cefb9e6799bf2ac",
   "outputs": [
    {
     "ename": "TypeError",
     "evalue": "unsupported operand type(s) for -: 'list' and 'int'",
     "output_type": "error",
     "traceback": [
      "\u001B[1;31m---------------------------------------------------------------------------\u001B[0m",
      "\u001B[1;31mTypeError\u001B[0m                                 Traceback (most recent call last)",
      "Cell \u001B[1;32mIn[131], line 1\u001B[0m\n\u001B[1;32m----> 1\u001B[0m \u001B[43mcf\u001B[49m\u001B[43m \u001B[49m\u001B[38;5;241;43m-\u001B[39;49m\u001B[43m \u001B[49m\u001B[38;5;241;43m20\u001B[39;49m\n",
      "\u001B[1;31mTypeError\u001B[0m: unsupported operand type(s) for -: 'list' and 'int'"
     ]
    }
   ],
   "execution_count": 131
  },
  {
   "metadata": {
    "ExecuteTime": {
     "end_time": "2025-01-09T03:50:49.193867Z",
     "start_time": "2025-01-08T22:19:24.748509Z"
    }
   },
   "cell_type": "code",
   "source": "cf * 1.1",
   "id": "419a334f4a3a4f23",
   "outputs": [
    {
     "ename": "TypeError",
     "evalue": "can't multiply sequence by non-int of type 'float'",
     "output_type": "error",
     "traceback": [
      "\u001B[1;31m---------------------------------------------------------------------------\u001B[0m",
      "\u001B[1;31mTypeError\u001B[0m                                 Traceback (most recent call last)",
      "Cell \u001B[1;32mIn[34], line 1\u001B[0m\n\u001B[1;32m----> 1\u001B[0m \u001B[43mcf\u001B[49m\u001B[43m \u001B[49m\u001B[38;5;241;43m*\u001B[39;49m\u001B[43m \u001B[49m\u001B[38;5;241;43m1.1\u001B[39;49m\n",
      "\u001B[1;31mTypeError\u001B[0m: can't multiply sequence by non-int of type 'float'"
     ]
    }
   ],
   "execution_count": 34
  },
  {
   "metadata": {
    "ExecuteTime": {
     "end_time": "2025-01-09T03:50:49.222495300Z",
     "start_time": "2025-01-08T22:20:09.519246Z"
    }
   },
   "cell_type": "code",
   "source": "cf * 2",
   "id": "2b43f0d071872e60",
   "outputs": [
    {
     "data": {
      "text/plain": [
       "[50, 100, 120, 150, 200, 300, 50, 100, 120, 150, 200, 300]"
      ]
     },
     "execution_count": 35,
     "metadata": {},
     "output_type": "execute_result"
    }
   ],
   "execution_count": 35
  },
  {
   "metadata": {
    "ExecuteTime": {
     "end_time": "2025-01-09T03:50:49.227624100Z",
     "start_time": "2025-01-08T22:20:34.449775Z"
    }
   },
   "cell_type": "code",
   "source": [
    "cf_new = []\n",
    "for i in cf:\n",
    "    cf_new.append(i - 20)\n",
    "cf_new"
   ],
   "id": "d6fd764b8597f49e",
   "outputs": [
    {
     "data": {
      "text/plain": [
       "[30, 80, 100, 130, 180, 280]"
      ]
     },
     "execution_count": 36,
     "metadata": {},
     "output_type": "execute_result"
    }
   ],
   "execution_count": 36
  },
  {
   "metadata": {
    "ExecuteTime": {
     "end_time": "2025-01-09T03:50:49.236326600Z",
     "start_time": "2025-01-08T22:20:55.971009Z"
    }
   },
   "cell_type": "code",
   "source": "cf_a - 20",
   "id": "d19780beec338821",
   "outputs": [
    {
     "data": {
      "text/plain": [
       "array([ 30,  80, 100, 130, 180, 280])"
      ]
     },
     "execution_count": 37,
     "metadata": {},
     "output_type": "execute_result"
    }
   ],
   "execution_count": 37
  },
  {
   "metadata": {
    "ExecuteTime": {
     "end_time": "2025-01-09T03:50:49.237322300Z",
     "start_time": "2025-01-08T22:21:10.258626Z"
    }
   },
   "cell_type": "code",
   "source": "cf_a * 1.1",
   "id": "fa965d4cdf2e3285",
   "outputs": [
    {
     "data": {
      "text/plain": [
       "array([ 55., 110., 132., 165., 220., 330.])"
      ]
     },
     "execution_count": 38,
     "metadata": {},
     "output_type": "execute_result"
    }
   ],
   "execution_count": 38
  },
  {
   "metadata": {
    "ExecuteTime": {
     "end_time": "2025-01-09T03:50:49.238320600Z",
     "start_time": "2025-01-08T22:21:18.705470Z"
    }
   },
   "cell_type": "code",
   "source": "cf_a * 2",
   "id": "782ebf28365cca50",
   "outputs": [
    {
     "data": {
      "text/plain": [
       "array([100, 200, 240, 300, 400, 600])"
      ]
     },
     "execution_count": 39,
     "metadata": {},
     "output_type": "execute_result"
    }
   ],
   "execution_count": 39
  },
  {
   "metadata": {
    "ExecuteTime": {
     "end_time": "2025-01-09T03:50:49.241288Z",
     "start_time": "2025-01-08T22:21:23.026295Z"
    }
   },
   "cell_type": "code",
   "source": "cf_a",
   "id": "c5ab9df1ac4d435e",
   "outputs": [
    {
     "data": {
      "text/plain": [
       "array([ 50, 100, 120, 150, 200, 300])"
      ]
     },
     "execution_count": 40,
     "metadata": {},
     "output_type": "execute_result"
    }
   ],
   "execution_count": 40
  },
  {
   "metadata": {
    "ExecuteTime": {
     "end_time": "2025-01-09T03:50:49.242289400Z",
     "start_time": "2025-01-08T22:21:58.987677Z"
    }
   },
   "cell_type": "code",
   "source": [
    "add_cf = np.array([10,20, -10, 30, 10, -5])\n",
    "add_cf"
   ],
   "id": "541f71b6769d6f4a",
   "outputs": [
    {
     "data": {
      "text/plain": [
       "array([ 10,  20, -10,  30,  10,  -5])"
      ]
     },
     "execution_count": 41,
     "metadata": {},
     "output_type": "execute_result"
    }
   ],
   "execution_count": 41
  },
  {
   "metadata": {
    "ExecuteTime": {
     "end_time": "2025-01-09T03:50:49.242289400Z",
     "start_time": "2025-01-08T22:22:06.530981Z"
    }
   },
   "cell_type": "code",
   "source": "cf_a + add_cf",
   "id": "77d7d081dcfd692d",
   "outputs": [
    {
     "data": {
      "text/plain": [
       "array([ 60, 120, 110, 180, 210, 295])"
      ]
     },
     "execution_count": 42,
     "metadata": {},
     "output_type": "execute_result"
    }
   ],
   "execution_count": 42
  },
  {
   "metadata": {
    "ExecuteTime": {
     "end_time": "2025-01-09T03:50:49.243288200Z",
     "start_time": "2025-01-08T22:26:19.559157Z"
    }
   },
   "cell_type": "code",
   "source": "cf_a.dtype",
   "id": "364fe3e3de5ad45d",
   "outputs": [
    {
     "data": {
      "text/plain": [
       "dtype('int64')"
      ]
     },
     "execution_count": 43,
     "metadata": {},
     "output_type": "execute_result"
    }
   ],
   "execution_count": 43
  },
  {
   "metadata": {
    "ExecuteTime": {
     "end_time": "2025-01-09T03:50:49.243288200Z",
     "start_time": "2025-01-08T22:27:01.800997Z"
    }
   },
   "cell_type": "code",
   "source": [
    "l = [100, 20.5, 30, 10.7, True, \"Apple\"]\n",
    "l"
   ],
   "id": "aa02f6c7597e522",
   "outputs": [
    {
     "data": {
      "text/plain": [
       "[100, 20.5, 30, 10.7, True, 'Apple']"
      ]
     },
     "execution_count": 44,
     "metadata": {},
     "output_type": "execute_result"
    }
   ],
   "execution_count": 44
  },
  {
   "metadata": {
    "ExecuteTime": {
     "end_time": "2025-01-09T03:50:49.243288200Z",
     "start_time": "2025-01-08T22:27:09.551227Z"
    }
   },
   "cell_type": "code",
   "source": [
    "a = np.array(l)\n",
    "a"
   ],
   "id": "8c370b02c9652e8a",
   "outputs": [
    {
     "data": {
      "text/plain": [
       "array(['100', '20.5', '30', '10.7', 'True', 'Apple'], dtype='<U32')"
      ]
     },
     "execution_count": 45,
     "metadata": {},
     "output_type": "execute_result"
    }
   ],
   "execution_count": 45
  },
  {
   "metadata": {
    "ExecuteTime": {
     "end_time": "2025-01-09T03:50:49.243288200Z",
     "start_time": "2025-01-08T22:27:40.967871Z"
    }
   },
   "cell_type": "code",
   "source": [
    "for element in a:\n",
    "    print(type(element))"
   ],
   "id": "182a8e0e1615cff2",
   "outputs": [
    {
     "name": "stdout",
     "output_type": "stream",
     "text": [
      "<class 'numpy.str_'>\n",
      "<class 'numpy.str_'>\n",
      "<class 'numpy.str_'>\n",
      "<class 'numpy.str_'>\n",
      "<class 'numpy.str_'>\n",
      "<class 'numpy.str_'>\n"
     ]
    }
   ],
   "execution_count": 46
  },
  {
   "metadata": {},
   "cell_type": "markdown",
   "source": "# Indexing and Slicing Numpy Arrays",
   "id": "7ff69d974e237456"
  },
  {
   "metadata": {
    "ExecuteTime": {
     "end_time": "2025-01-09T03:50:49.244796700Z",
     "start_time": "2025-01-08T22:29:24.082651Z"
    }
   },
   "cell_type": "code",
   "source": "import numpy as np",
   "id": "76c6d4cfd85497da",
   "outputs": [],
   "execution_count": 47
  },
  {
   "metadata": {
    "ExecuteTime": {
     "end_time": "2025-01-09T03:50:49.244796700Z",
     "start_time": "2025-01-08T22:29:46.877446Z"
    }
   },
   "cell_type": "code",
   "source": [
    "cf = np.array([50, 100, 120, 150, 200, 300])\n",
    "cf"
   ],
   "id": "9ba79f4b7e754f82",
   "outputs": [
    {
     "data": {
      "text/plain": [
       "array([ 50, 100, 120, 150, 200, 300])"
      ]
     },
     "execution_count": 49,
     "metadata": {},
     "output_type": "execute_result"
    }
   ],
   "execution_count": 49
  },
  {
   "metadata": {
    "ExecuteTime": {
     "end_time": "2025-01-09T03:50:49.244796700Z",
     "start_time": "2025-01-08T22:29:52.315579Z"
    }
   },
   "cell_type": "code",
   "source": "cf[0]",
   "id": "42b343189cb29b5d",
   "outputs": [
    {
     "data": {
      "text/plain": [
       "np.int64(50)"
      ]
     },
     "execution_count": 50,
     "metadata": {},
     "output_type": "execute_result"
    }
   ],
   "execution_count": 50
  },
  {
   "metadata": {
    "ExecuteTime": {
     "end_time": "2025-01-09T03:50:49.244796700Z",
     "start_time": "2025-01-08T22:29:59.371200Z"
    }
   },
   "cell_type": "code",
   "source": "cf[2]",
   "id": "cc5137c8d303aa70",
   "outputs": [
    {
     "data": {
      "text/plain": [
       "np.int64(120)"
      ]
     },
     "execution_count": 51,
     "metadata": {},
     "output_type": "execute_result"
    }
   ],
   "execution_count": 51
  },
  {
   "metadata": {
    "ExecuteTime": {
     "end_time": "2025-01-09T03:50:49.244796700Z",
     "start_time": "2025-01-08T22:30:04.248487Z"
    }
   },
   "cell_type": "code",
   "source": "cf[-1]",
   "id": "edb1fea407fa331f",
   "outputs": [
    {
     "data": {
      "text/plain": [
       "np.int64(300)"
      ]
     },
     "execution_count": 52,
     "metadata": {},
     "output_type": "execute_result"
    }
   ],
   "execution_count": 52
  },
  {
   "metadata": {
    "ExecuteTime": {
     "end_time": "2025-01-09T03:50:49.245808500Z",
     "start_time": "2025-01-08T22:30:15.972624Z"
    }
   },
   "cell_type": "code",
   "source": "cf[-3]",
   "id": "c232050047b2a43e",
   "outputs": [
    {
     "data": {
      "text/plain": [
       "np.int64(150)"
      ]
     },
     "execution_count": 53,
     "metadata": {},
     "output_type": "execute_result"
    }
   ],
   "execution_count": 53
  },
  {
   "metadata": {
    "ExecuteTime": {
     "end_time": "2025-01-09T03:50:49.245808500Z",
     "start_time": "2025-01-08T22:30:21.293249Z"
    }
   },
   "cell_type": "code",
   "source": "cf[2:4]",
   "id": "68409b5da3453eab",
   "outputs": [
    {
     "data": {
      "text/plain": [
       "array([120, 150])"
      ]
     },
     "execution_count": 54,
     "metadata": {},
     "output_type": "execute_result"
    }
   ],
   "execution_count": 54
  },
  {
   "metadata": {
    "ExecuteTime": {
     "end_time": "2025-01-09T03:50:49.246806800Z",
     "start_time": "2025-01-08T22:30:41.925700Z"
    }
   },
   "cell_type": "code",
   "source": "cf[:3]",
   "id": "1c6e6eddb8c2c580",
   "outputs": [
    {
     "data": {
      "text/plain": [
       "array([ 50, 100, 120])"
      ]
     },
     "execution_count": 55,
     "metadata": {},
     "output_type": "execute_result"
    }
   ],
   "execution_count": 55
  },
  {
   "metadata": {
    "ExecuteTime": {
     "end_time": "2025-01-09T03:50:49.246806800Z",
     "start_time": "2025-01-08T22:30:53.814367Z"
    }
   },
   "cell_type": "code",
   "source": "cf[2:]",
   "id": "8bb8ebf9166f2ed6",
   "outputs": [
    {
     "data": {
      "text/plain": [
       "array([120, 150, 200, 300])"
      ]
     },
     "execution_count": 56,
     "metadata": {},
     "output_type": "execute_result"
    }
   ],
   "execution_count": 56
  },
  {
   "metadata": {
    "ExecuteTime": {
     "end_time": "2025-01-09T03:50:49.246806800Z",
     "start_time": "2025-01-08T22:31:09.697852Z"
    }
   },
   "cell_type": "code",
   "source": "cf[:-1]",
   "id": "265346837577ad08",
   "outputs": [
    {
     "data": {
      "text/plain": [
       "array([ 50, 100, 120, 150, 200])"
      ]
     },
     "execution_count": 57,
     "metadata": {},
     "output_type": "execute_result"
    }
   ],
   "execution_count": 57
  },
  {
   "metadata": {
    "ExecuteTime": {
     "end_time": "2025-01-09T03:50:49.247805500Z",
     "start_time": "2025-01-08T22:31:19.070967Z"
    }
   },
   "cell_type": "code",
   "source": "cf[-2:]",
   "id": "db149b37dc66a88b",
   "outputs": [
    {
     "data": {
      "text/plain": [
       "array([200, 300])"
      ]
     },
     "execution_count": 58,
     "metadata": {},
     "output_type": "execute_result"
    }
   ],
   "execution_count": 58
  },
  {
   "metadata": {
    "ExecuteTime": {
     "end_time": "2025-01-09T03:50:49.247805500Z",
     "start_time": "2025-01-08T22:31:28.665529Z"
    }
   },
   "cell_type": "code",
   "source": "cf[1:5:2]",
   "id": "a9aa412667041305",
   "outputs": [
    {
     "data": {
      "text/plain": [
       "array([100, 150])"
      ]
     },
     "execution_count": 59,
     "metadata": {},
     "output_type": "execute_result"
    }
   ],
   "execution_count": 59
  },
  {
   "metadata": {
    "ExecuteTime": {
     "end_time": "2025-01-09T03:50:49.247805500Z",
     "start_time": "2025-01-08T22:32:33.107404Z"
    }
   },
   "cell_type": "code",
   "source": "cf[::-1]",
   "id": "5b1698034927e47",
   "outputs": [
    {
     "data": {
      "text/plain": [
       "array([300, 200, 150, 120, 100,  50])"
      ]
     },
     "execution_count": 60,
     "metadata": {},
     "output_type": "execute_result"
    }
   ],
   "execution_count": 60
  },
  {
   "metadata": {},
   "cell_type": "markdown",
   "source": "# Vectorized Operations with Numpy",
   "id": "3d0d5c0af7e9b05e"
  },
  {
   "metadata": {
    "ExecuteTime": {
     "end_time": "2025-01-09T03:50:49.247805500Z",
     "start_time": "2025-01-08T22:33:04.611317Z"
    }
   },
   "cell_type": "code",
   "source": "import numpy as np",
   "id": "e38f93e8710f63d1",
   "outputs": [],
   "execution_count": 61
  },
  {
   "metadata": {
    "ExecuteTime": {
     "end_time": "2025-01-09T03:50:49.248805700Z",
     "start_time": "2025-01-08T22:33:18.334090Z"
    }
   },
   "cell_type": "code",
   "source": [
    "cf = np.array([50, 100, 120, 150, 200, 300])\n",
    "cf"
   ],
   "id": "4afd7c8e129ee1f2",
   "outputs": [
    {
     "data": {
      "text/plain": [
       "array([ 50, 100, 120, 150, 200, 300])"
      ]
     },
     "execution_count": 62,
     "metadata": {},
     "output_type": "execute_result"
    }
   ],
   "execution_count": 62
  },
  {
   "metadata": {
    "ExecuteTime": {
     "end_time": "2025-01-09T03:50:49.248805700Z",
     "start_time": "2025-01-08T22:33:25.595826Z"
    }
   },
   "cell_type": "code",
   "source": "cf * 1.1",
   "id": "3ce7e9add90e481e",
   "outputs": [
    {
     "data": {
      "text/plain": [
       "array([ 55., 110., 132., 165., 220., 330.])"
      ]
     },
     "execution_count": 63,
     "metadata": {},
     "output_type": "execute_result"
    }
   ],
   "execution_count": 63
  },
  {
   "metadata": {
    "ExecuteTime": {
     "end_time": "2025-01-09T03:50:49.248805700Z",
     "start_time": "2025-01-08T22:33:33.745859Z"
    }
   },
   "cell_type": "code",
   "source": "cf + 20",
   "id": "e58eccdcb9610f03",
   "outputs": [
    {
     "data": {
      "text/plain": [
       "array([ 70, 120, 140, 170, 220, 320])"
      ]
     },
     "execution_count": 64,
     "metadata": {},
     "output_type": "execute_result"
    }
   ],
   "execution_count": 64
  },
  {
   "metadata": {
    "ExecuteTime": {
     "end_time": "2025-01-09T03:50:49.248805700Z",
     "start_time": "2025-01-08T22:34:03.959696Z"
    }
   },
   "cell_type": "code",
   "source": [
    "cf_add = np.array([10, 20, 5, -10, 20, 10])\n",
    "cf_add"
   ],
   "id": "487f5cfd59118932",
   "outputs": [
    {
     "data": {
      "text/plain": [
       "array([ 10,  20,   5, -10,  20,  10])"
      ]
     },
     "execution_count": 66,
     "metadata": {},
     "output_type": "execute_result"
    }
   ],
   "execution_count": 66
  },
  {
   "metadata": {
    "ExecuteTime": {
     "end_time": "2025-01-09T03:50:49.248805700Z",
     "start_time": "2025-01-08T22:34:22.250318Z"
    }
   },
   "cell_type": "code",
   "source": "cf + cf_add",
   "id": "635761bf3e25e748",
   "outputs": [
    {
     "data": {
      "text/plain": [
       "array([ 60, 120, 125, 140, 220, 310])"
      ]
     },
     "execution_count": 67,
     "metadata": {},
     "output_type": "execute_result"
    }
   ],
   "execution_count": 67
  },
  {
   "metadata": {},
   "cell_type": "markdown",
   "source": [
    "The XYZ Company evaluates to buy an additional machine that will increase future profits/cashflows by\n",
    "- 20 USD in t1,\n",
    "- 50 USD in t2,\n",
    "- 70 USD in t3,\n",
    "- 100 USD in t4,\n",
    "- 50 USD in t5. (each cf at period's end)\n",
    "\n",
    "The machine costs 200 USD (Investment in to). Calculate the **Project's NPV** and evaluate whether XYZ should pursue the project.\n",
    "XYZ's required rate of return (Cost of Capital) is 6% p.a."
   ],
   "id": "963b02f680902fec"
  },
  {
   "metadata": {
    "ExecuteTime": {
     "end_time": "2025-01-09T03:50:49.249806100Z",
     "start_time": "2025-01-08T22:38:15.372387Z"
    }
   },
   "cell_type": "code",
   "source": [
    "cf = np.array([-200, 20, 50, 70, 100, 50])\n",
    "r = 0.06\n",
    "f = 1 + r"
   ],
   "id": "d73a1998e96e3ab0",
   "outputs": [],
   "execution_count": 68
  },
  {
   "metadata": {
    "ExecuteTime": {
     "end_time": "2025-01-09T03:50:49.249806100Z",
     "start_time": "2025-01-08T22:38:57.427915Z"
    }
   },
   "cell_type": "code",
   "source": [
    "n = np.array([0, 1, 2, 3, 4, 5])\n",
    "n"
   ],
   "id": "528840ff4ac933b2",
   "outputs": [
    {
     "data": {
      "text/plain": [
       "array([0, 1, 2, 3, 4, 5])"
      ]
     },
     "execution_count": 69,
     "metadata": {},
     "output_type": "execute_result"
    }
   ],
   "execution_count": 69
  },
  {
   "metadata": {
    "ExecuteTime": {
     "end_time": "2025-01-09T03:50:49.249806100Z",
     "start_time": "2025-01-08T22:39:39.458391Z"
    }
   },
   "cell_type": "code",
   "source": "cf / f**n",
   "id": "b6a7756bf37920bd",
   "outputs": [
    {
     "data": {
      "text/plain": [
       "array([-200.        ,   18.86792453,   44.499822  ,   58.77334981,\n",
       "         79.20936632,   37.36290864])"
      ]
     },
     "execution_count": 70,
     "metadata": {},
     "output_type": "execute_result"
    }
   ],
   "execution_count": 70
  },
  {
   "metadata": {
    "ExecuteTime": {
     "end_time": "2025-01-09T03:50:49.249806100Z",
     "start_time": "2025-01-08T22:43:49.112286Z"
    }
   },
   "cell_type": "code",
   "source": [
    "pv_array = cf / f**n\n",
    "pv_array"
   ],
   "id": "bab4463194c7e134",
   "outputs": [
    {
     "data": {
      "text/plain": [
       "array([-200.        ,   18.86792453,   44.499822  ,   58.77334981,\n",
       "         79.20936632,   37.36290864])"
      ]
     },
     "execution_count": 71,
     "metadata": {},
     "output_type": "execute_result"
    }
   ],
   "execution_count": 71
  },
  {
   "metadata": {
    "ExecuteTime": {
     "end_time": "2025-01-09T03:50:49.249806100Z",
     "start_time": "2025-01-08T22:44:43.161380Z"
    }
   },
   "cell_type": "code",
   "source": [
    "NPV = pv_array.sum()\n",
    "NPV"
   ],
   "id": "24bf1e8301d9b370",
   "outputs": [
    {
     "data": {
      "text/plain": [
       "np.float64(38.71337130837991)"
      ]
     },
     "execution_count": 72,
     "metadata": {},
     "output_type": "execute_result"
    }
   ],
   "execution_count": 72
  },
  {
   "metadata": {
    "ExecuteTime": {
     "end_time": "2025-01-09T03:50:49.250807200Z",
     "start_time": "2025-01-08T22:45:09.277784Z"
    }
   },
   "cell_type": "code",
   "source": "(cf / f**n).sum()",
   "id": "c7139f9009f0374a",
   "outputs": [
    {
     "data": {
      "text/plain": [
       "np.float64(38.71337130837991)"
      ]
     },
     "execution_count": 73,
     "metadata": {},
     "output_type": "execute_result"
    }
   ],
   "execution_count": 73
  },
  {
   "metadata": {
    "ExecuteTime": {
     "end_time": "2025-01-09T03:50:49.250807200Z",
     "start_time": "2025-01-08T22:46:30.773289Z"
    }
   },
   "cell_type": "code",
   "source": [
    "NPV = 0\n",
    "for i in range(len(cf)):\n",
    "    NPV +=  cf[i] / f**(i)\n",
    "print(NPV)"
   ],
   "id": "4019819613e976e0",
   "outputs": [
    {
     "name": "stdout",
     "output_type": "stream",
     "text": [
      "38.71337130837991\n"
     ]
    }
   ],
   "execution_count": 74
  },
  {
   "metadata": {},
   "cell_type": "markdown",
   "source": "Changing Elements in Numpy Arrays & Mutability",
   "id": "192d19cb8da7c6b8"
  },
  {
   "metadata": {
    "ExecuteTime": {
     "end_time": "2025-01-09T03:50:49.250807200Z",
     "start_time": "2025-01-09T01:17:04.154166Z"
    }
   },
   "cell_type": "code",
   "source": "import numpy as np",
   "id": "82e5962fb6ca84e6",
   "outputs": [],
   "execution_count": 75
  },
  {
   "metadata": {
    "ExecuteTime": {
     "end_time": "2025-01-09T03:50:49.250807200Z",
     "start_time": "2025-01-09T01:17:23.307232Z"
    }
   },
   "cell_type": "code",
   "source": "cf = np.array([100, 10, 20, 50, 30, 25])",
   "id": "c9e0c987c4d56706",
   "outputs": [],
   "execution_count": 76
  },
  {
   "metadata": {
    "ExecuteTime": {
     "end_time": "2025-01-09T03:50:49.250807200Z",
     "start_time": "2025-01-09T01:17:31.265528Z"
    }
   },
   "cell_type": "code",
   "source": "cf[0] = 95",
   "id": "aebbab4a0b015b88",
   "outputs": [],
   "execution_count": 77
  },
  {
   "metadata": {
    "ExecuteTime": {
     "end_time": "2025-01-09T03:50:49.251805900Z",
     "start_time": "2025-01-09T01:17:33.935721Z"
    }
   },
   "cell_type": "code",
   "source": "cf",
   "id": "f258fd5da0e87b83",
   "outputs": [
    {
     "data": {
      "text/plain": [
       "array([95, 10, 20, 50, 30, 25])"
      ]
     },
     "execution_count": 78,
     "metadata": {},
     "output_type": "execute_result"
    }
   ],
   "execution_count": 78
  },
  {
   "metadata": {
    "ExecuteTime": {
     "end_time": "2025-01-09T03:50:49.251805900Z",
     "start_time": "2025-01-09T01:17:49.203369Z"
    }
   },
   "cell_type": "code",
   "source": "cf[1:] = [40, 40, 40, 40, 40]",
   "id": "4ff39c7bd6473486",
   "outputs": [],
   "execution_count": 79
  },
  {
   "metadata": {
    "ExecuteTime": {
     "end_time": "2025-01-09T03:50:49.251805900Z",
     "start_time": "2025-01-09T01:17:52.718535Z"
    }
   },
   "cell_type": "code",
   "source": "cf",
   "id": "633de8181a9a7a1b",
   "outputs": [
    {
     "data": {
      "text/plain": [
       "array([95, 40, 40, 40, 40, 40])"
      ]
     },
     "execution_count": 80,
     "metadata": {},
     "output_type": "execute_result"
    }
   ],
   "execution_count": 80
  },
  {
   "metadata": {
    "ExecuteTime": {
     "end_time": "2025-01-09T03:50:49.251805900Z",
     "start_time": "2025-01-09T01:18:08.541807Z"
    }
   },
   "cell_type": "code",
   "source": "cf[1:] = 45",
   "id": "5d4490a1950cf372",
   "outputs": [],
   "execution_count": 83
  },
  {
   "metadata": {
    "ExecuteTime": {
     "end_time": "2025-01-09T03:50:49.251805900Z",
     "start_time": "2025-01-09T01:18:12.589325Z"
    }
   },
   "cell_type": "code",
   "source": "cf",
   "id": "7aede793b667872f",
   "outputs": [
    {
     "data": {
      "text/plain": [
       "array([95, 45, 45, 45, 45, 45])"
      ]
     },
     "execution_count": 85,
     "metadata": {},
     "output_type": "execute_result"
    }
   ],
   "execution_count": 85
  },
  {
   "metadata": {
    "ExecuteTime": {
     "end_time": "2025-01-09T03:50:49.252807800Z",
     "start_time": "2025-01-09T01:18:30.691767Z"
    }
   },
   "cell_type": "code",
   "source": "cf + 20",
   "id": "a5422298b6d126b4",
   "outputs": [
    {
     "data": {
      "text/plain": [
       "array([115,  65,  65,  65,  65,  65])"
      ]
     },
     "execution_count": 86,
     "metadata": {},
     "output_type": "execute_result"
    }
   ],
   "execution_count": 86
  },
  {
   "metadata": {
    "ExecuteTime": {
     "end_time": "2025-01-09T03:50:49.252807800Z",
     "start_time": "2025-01-09T01:18:36.014358Z"
    }
   },
   "cell_type": "code",
   "source": "cf",
   "id": "d212fdecb9cd04ac",
   "outputs": [
    {
     "data": {
      "text/plain": [
       "array([95, 45, 45, 45, 45, 45])"
      ]
     },
     "execution_count": 87,
     "metadata": {},
     "output_type": "execute_result"
    }
   ],
   "execution_count": 87
  },
  {
   "metadata": {
    "ExecuteTime": {
     "end_time": "2025-01-09T03:50:49.252807800Z",
     "start_time": "2025-01-09T01:18:47.252660Z"
    }
   },
   "cell_type": "code",
   "source": "cf = cf + 20",
   "id": "bf829f159a62077d",
   "outputs": [],
   "execution_count": 88
  },
  {
   "metadata": {
    "ExecuteTime": {
     "end_time": "2025-01-09T03:50:49.253807500Z",
     "start_time": "2025-01-09T01:18:49.901125Z"
    }
   },
   "cell_type": "code",
   "source": "cf",
   "id": "b2fee28985151bf1",
   "outputs": [
    {
     "data": {
      "text/plain": [
       "array([115,  65,  65,  65,  65,  65])"
      ]
     },
     "execution_count": 89,
     "metadata": {},
     "output_type": "execute_result"
    }
   ],
   "execution_count": 89
  },
  {
   "metadata": {
    "ExecuteTime": {
     "end_time": "2025-01-09T03:50:49.253807500Z",
     "start_time": "2025-01-09T01:19:34.876546Z"
    }
   },
   "cell_type": "code",
   "source": "cf1 = np.array([100, 10, 20, 50, 30, 25])",
   "id": "678722bcb3bc0c8e",
   "outputs": [],
   "execution_count": 90
  },
  {
   "metadata": {
    "ExecuteTime": {
     "end_time": "2025-01-09T03:50:49.254808500Z",
     "start_time": "2025-01-09T01:42:11.211137Z"
    }
   },
   "cell_type": "code",
   "source": "cf2 = cf1",
   "id": "db469fea687375e2",
   "outputs": [],
   "execution_count": 91
  },
  {
   "metadata": {
    "ExecuteTime": {
     "end_time": "2025-01-09T03:50:49.254808500Z",
     "start_time": "2025-01-09T01:42:32.986314Z"
    }
   },
   "cell_type": "code",
   "source": "cf1 = np.array([100, 10, 20, 50, 30, 25])",
   "id": "6c1338b3ae7773bb",
   "outputs": [],
   "execution_count": 92
  },
  {
   "metadata": {
    "ExecuteTime": {
     "end_time": "2025-01-09T03:50:49.254808500Z",
     "start_time": "2025-01-09T02:19:07.391220Z"
    }
   },
   "cell_type": "code",
   "source": [
    "cf2 = cf1[:]\n",
    "cf2"
   ],
   "id": "4c3054e8431734d8",
   "outputs": [
    {
     "data": {
      "text/plain": [
       "array([100,  10,  20,  50,  30,  25])"
      ]
     },
     "execution_count": 94,
     "metadata": {},
     "output_type": "execute_result"
    }
   ],
   "execution_count": 94
  },
  {
   "metadata": {
    "ExecuteTime": {
     "end_time": "2025-01-09T03:50:49.255887700Z",
     "start_time": "2025-01-09T02:19:25.948970Z"
    }
   },
   "cell_type": "code",
   "source": [
    "cf1[0] = 95\n",
    "cf1"
   ],
   "id": "1ed84217dc4cf122",
   "outputs": [
    {
     "data": {
      "text/plain": [
       "array([95, 10, 20, 50, 30, 25])"
      ]
     },
     "execution_count": 95,
     "metadata": {},
     "output_type": "execute_result"
    }
   ],
   "execution_count": 95
  },
  {
   "metadata": {
    "ExecuteTime": {
     "end_time": "2025-01-09T03:50:49.256889200Z",
     "start_time": "2025-01-09T02:19:33.947200Z"
    }
   },
   "cell_type": "code",
   "source": "cf2",
   "id": "67814257081ddf59",
   "outputs": [
    {
     "data": {
      "text/plain": [
       "array([95, 10, 20, 50, 30, 25])"
      ]
     },
     "execution_count": 96,
     "metadata": {},
     "output_type": "execute_result"
    }
   ],
   "execution_count": 96
  },
  {
   "metadata": {
    "ExecuteTime": {
     "end_time": "2025-01-09T03:50:49.256889200Z",
     "start_time": "2025-01-09T02:20:22.793475Z"
    }
   },
   "cell_type": "code",
   "source": [
    "cf1 = np.array([100, 10, 20, 50, 30, 25])\n",
    "cf1"
   ],
   "id": "c8ac073025358c94",
   "outputs": [
    {
     "data": {
      "text/plain": [
       "array([100,  10,  20,  50,  30,  25])"
      ]
     },
     "execution_count": 97,
     "metadata": {},
     "output_type": "execute_result"
    }
   ],
   "execution_count": 97
  },
  {
   "metadata": {
    "ExecuteTime": {
     "end_time": "2025-01-09T03:50:49.257894100Z",
     "start_time": "2025-01-09T02:20:30.180252Z"
    }
   },
   "cell_type": "code",
   "source": "cf2 = cf1.copy()",
   "id": "73dcf3fd081e07c2",
   "outputs": [],
   "execution_count": 98
  },
  {
   "metadata": {
    "ExecuteTime": {
     "end_time": "2025-01-09T03:50:49.257894100Z",
     "start_time": "2025-01-09T02:20:46.857464Z"
    }
   },
   "cell_type": "code",
   "source": [
    "cf1[0] = 95\n",
    "cf1"
   ],
   "id": "2fe97387d96038f3",
   "outputs": [
    {
     "data": {
      "text/plain": [
       "array([95, 10, 20, 50, 30, 25])"
      ]
     },
     "execution_count": 99,
     "metadata": {},
     "output_type": "execute_result"
    }
   ],
   "execution_count": 99
  },
  {
   "metadata": {
    "ExecuteTime": {
     "end_time": "2025-01-09T03:50:49.260915500Z",
     "start_time": "2025-01-09T02:20:59.774954Z"
    }
   },
   "cell_type": "code",
   "source": "cf2",
   "id": "51607055aef29b8e",
   "outputs": [
    {
     "data": {
      "text/plain": [
       "array([100,  10,  20,  50,  30,  25])"
      ]
     },
     "execution_count": 100,
     "metadata": {},
     "output_type": "execute_result"
    }
   ],
   "execution_count": 100
  },
  {
   "metadata": {},
   "cell_type": "markdown",
   "source": "# View vs. copy - potential Pitfalls when slicing Numpy Arrays",
   "id": "f7229ebaec670b23"
  },
  {
   "metadata": {
    "ExecuteTime": {
     "end_time": "2025-01-09T03:51:06.676334Z",
     "start_time": "2025-01-09T03:51:06.674097Z"
    }
   },
   "cell_type": "code",
   "source": "import numpy as np",
   "id": "61ff01212e4d4645",
   "outputs": [],
   "execution_count": 132
  },
  {
   "metadata": {
    "ExecuteTime": {
     "end_time": "2025-01-09T03:51:08.623035Z",
     "start_time": "2025-01-09T03:51:08.617743Z"
    }
   },
   "cell_type": "code",
   "source": [
    "cf = np.array([100, 10, 20, 50, 30, 25])\n",
    "cf"
   ],
   "id": "bb2858fe97f1f952",
   "outputs": [
    {
     "data": {
      "text/plain": [
       "array([100,  10,  20,  50,  30,  25])"
      ]
     },
     "execution_count": 133,
     "metadata": {},
     "output_type": "execute_result"
    }
   ],
   "execution_count": 133
  },
  {
   "metadata": {
    "ExecuteTime": {
     "end_time": "2025-01-09T03:51:10.075799Z",
     "start_time": "2025-01-09T03:51:10.070543Z"
    }
   },
   "cell_type": "code",
   "source": [
    "last_3 = cf[-3:].copy()\n",
    "last_3"
   ],
   "id": "e200a1af3aa06987",
   "outputs": [
    {
     "data": {
      "text/plain": [
       "array([50, 30, 25])"
      ]
     },
     "execution_count": 134,
     "metadata": {},
     "output_type": "execute_result"
    }
   ],
   "execution_count": 134
  },
  {
   "metadata": {
    "ExecuteTime": {
     "end_time": "2025-01-09T03:51:12.099692Z",
     "start_time": "2025-01-09T03:51:12.095866Z"
    }
   },
   "cell_type": "code",
   "source": "last_3[0] = 55",
   "id": "217f495b33d7ee37",
   "outputs": [],
   "execution_count": 135
  },
  {
   "metadata": {
    "ExecuteTime": {
     "end_time": "2025-01-09T03:51:13.395692Z",
     "start_time": "2025-01-09T03:51:13.390665Z"
    }
   },
   "cell_type": "code",
   "source": "last_3",
   "id": "9ca35be74f1b8935",
   "outputs": [
    {
     "data": {
      "text/plain": [
       "array([55, 30, 25])"
      ]
     },
     "execution_count": 136,
     "metadata": {},
     "output_type": "execute_result"
    }
   ],
   "execution_count": 136
  },
  {
   "metadata": {
    "ExecuteTime": {
     "end_time": "2025-01-09T03:51:15.086281Z",
     "start_time": "2025-01-09T03:51:15.080500Z"
    }
   },
   "cell_type": "code",
   "source": "cf",
   "id": "c73aa0f86e580c7e",
   "outputs": [
    {
     "data": {
      "text/plain": [
       "array([100,  10,  20,  50,  30,  25])"
      ]
     },
     "execution_count": 137,
     "metadata": {},
     "output_type": "execute_result"
    }
   ],
   "execution_count": 137
  },
  {
   "metadata": {
    "ExecuteTime": {
     "end_time": "2025-01-09T03:50:49.270405100Z",
     "start_time": "2025-01-09T03:46:10.284886Z"
    }
   },
   "cell_type": "code",
   "source": [
    "cf = [100, 10, 20, 50, 30, 25]\n",
    "cf"
   ],
   "id": "89d8a30db8d376dc",
   "outputs": [
    {
     "data": {
      "text/plain": [
       "[100, 10, 20, 50, 30, 25]"
      ]
     },
     "execution_count": 108,
     "metadata": {},
     "output_type": "execute_result"
    }
   ],
   "execution_count": 108
  },
  {
   "metadata": {
    "ExecuteTime": {
     "end_time": "2025-01-09T03:50:49.270405100Z",
     "start_time": "2025-01-09T03:46:25.868408Z"
    }
   },
   "cell_type": "code",
   "source": [
    "last_3 = cf[-3:]\n",
    "last_3"
   ],
   "id": "aa80df92ad404e61",
   "outputs": [
    {
     "data": {
      "text/plain": [
       "[50, 30, 25]"
      ]
     },
     "execution_count": 110,
     "metadata": {},
     "output_type": "execute_result"
    }
   ],
   "execution_count": 110
  },
  {
   "metadata": {
    "ExecuteTime": {
     "end_time": "2025-01-09T03:50:49.270405100Z",
     "start_time": "2025-01-09T03:48:43.766214Z"
    }
   },
   "cell_type": "code",
   "source": "cf",
   "id": "8f2062dd371d8d14",
   "outputs": [
    {
     "data": {
      "text/plain": [
       "[100, 10, 20, 50, 30, 25]"
      ]
     },
     "execution_count": 111,
     "metadata": {},
     "output_type": "execute_result"
    }
   ],
   "execution_count": 111
  },
  {
   "metadata": {},
   "cell_type": "markdown",
   "source": "# Numpy Array Methods and Attributes",
   "id": "a1842febd63f27c2"
  },
  {
   "metadata": {
    "ExecuteTime": {
     "end_time": "2025-01-09T03:51:49.086940Z",
     "start_time": "2025-01-09T03:51:49.082971Z"
    }
   },
   "cell_type": "code",
   "source": "import numpy as np",
   "id": "677b5968a5824f72",
   "outputs": [],
   "execution_count": 138
  },
  {
   "metadata": {
    "ExecuteTime": {
     "end_time": "2025-01-09T03:52:03.310509Z",
     "start_time": "2025-01-09T03:52:03.304739Z"
    }
   },
   "cell_type": "code",
   "source": [
    "cf = np.array([-200, 20, 50, 70, 100, 50])\n",
    "cf"
   ],
   "id": "129be7ede758042d",
   "outputs": [
    {
     "data": {
      "text/plain": [
       "array([-200,   20,   50,   70,  100,   50])"
      ]
     },
     "execution_count": 139,
     "metadata": {},
     "output_type": "execute_result"
    }
   ],
   "execution_count": 139
  },
  {
   "metadata": {
    "ExecuteTime": {
     "end_time": "2025-01-09T03:52:07.791524Z",
     "start_time": "2025-01-09T03:52:07.786779Z"
    }
   },
   "cell_type": "code",
   "source": "max(cf)",
   "id": "ccb2f0ade5dcdcab",
   "outputs": [
    {
     "data": {
      "text/plain": [
       "np.int64(100)"
      ]
     },
     "execution_count": 140,
     "metadata": {},
     "output_type": "execute_result"
    }
   ],
   "execution_count": 140
  },
  {
   "metadata": {
    "ExecuteTime": {
     "end_time": "2025-01-09T03:52:17.959168Z",
     "start_time": "2025-01-09T03:52:17.953604Z"
    }
   },
   "cell_type": "code",
   "source": "cf.max()",
   "id": "8e4e24b8c8115989",
   "outputs": [
    {
     "data": {
      "text/plain": [
       "np.int64(100)"
      ]
     },
     "execution_count": 141,
     "metadata": {},
     "output_type": "execute_result"
    }
   ],
   "execution_count": 141
  },
  {
   "metadata": {
    "ExecuteTime": {
     "end_time": "2025-01-09T03:52:23.312686Z",
     "start_time": "2025-01-09T03:52:23.307791Z"
    }
   },
   "cell_type": "code",
   "source": "cf.min()",
   "id": "add55eaa458cc077",
   "outputs": [
    {
     "data": {
      "text/plain": [
       "np.int64(-200)"
      ]
     },
     "execution_count": 142,
     "metadata": {},
     "output_type": "execute_result"
    }
   ],
   "execution_count": 142
  },
  {
   "metadata": {
    "ExecuteTime": {
     "end_time": "2025-01-09T03:52:30.332803Z",
     "start_time": "2025-01-09T03:52:30.326087Z"
    }
   },
   "cell_type": "code",
   "source": "cf.argmax()",
   "id": "a828d8b0118222c7",
   "outputs": [
    {
     "data": {
      "text/plain": [
       "np.int64(4)"
      ]
     },
     "execution_count": 143,
     "metadata": {},
     "output_type": "execute_result"
    }
   ],
   "execution_count": 143
  },
  {
   "metadata": {
    "ExecuteTime": {
     "end_time": "2025-01-09T03:52:56.550021Z",
     "start_time": "2025-01-09T03:52:56.542798Z"
    }
   },
   "cell_type": "code",
   "source": "cf.argmin()",
   "id": "d44c5f7622394f7f",
   "outputs": [
    {
     "data": {
      "text/plain": [
       "np.int64(0)"
      ]
     },
     "execution_count": 144,
     "metadata": {},
     "output_type": "execute_result"
    }
   ],
   "execution_count": 144
  },
  {
   "metadata": {
    "ExecuteTime": {
     "end_time": "2025-01-09T03:53:02.820702Z",
     "start_time": "2025-01-09T03:53:02.815436Z"
    }
   },
   "cell_type": "code",
   "source": "cf.sum()",
   "id": "e48b244241192d62",
   "outputs": [
    {
     "data": {
      "text/plain": [
       "np.int64(90)"
      ]
     },
     "execution_count": 145,
     "metadata": {},
     "output_type": "execute_result"
    }
   ],
   "execution_count": 145
  },
  {
   "metadata": {
    "ExecuteTime": {
     "end_time": "2025-01-09T03:53:08.805633Z",
     "start_time": "2025-01-09T03:53:08.800635Z"
    }
   },
   "cell_type": "code",
   "source": "cf.cumsum()",
   "id": "d9d5b6914be9ab63",
   "outputs": [
    {
     "data": {
      "text/plain": [
       "array([-200, -180, -130,  -60,   40,   90])"
      ]
     },
     "execution_count": 146,
     "metadata": {},
     "output_type": "execute_result"
    }
   ],
   "execution_count": 146
  },
  {
   "metadata": {
    "ExecuteTime": {
     "end_time": "2025-01-09T03:53:21.765936Z",
     "start_time": "2025-01-09T03:53:21.761624Z"
    }
   },
   "cell_type": "code",
   "source": "array = cf.cumsum()",
   "id": "b419d1684c08cf38",
   "outputs": [],
   "execution_count": 147
  },
  {
   "metadata": {
    "ExecuteTime": {
     "end_time": "2025-01-09T03:54:13.632142Z",
     "start_time": "2025-01-09T03:54:11.708956Z"
    }
   },
   "cell_type": "code",
   "source": "import matplotlib.pyplot as plt",
   "id": "10b79c95484757f9",
   "outputs": [],
   "execution_count": 148
  },
  {
   "metadata": {
    "ExecuteTime": {
     "end_time": "2025-01-09T03:54:41.466670Z",
     "start_time": "2025-01-09T03:54:41.305809Z"
    }
   },
   "cell_type": "code",
   "source": [
    "plt.figure(figsize=(12, 8))\n",
    "plt.plot(array)\n",
    "plt.show()"
   ],
   "id": "e86e13b1703be1cc",
   "outputs": [
    {
     "data": {
      "text/plain": [
       "<Figure size 1200x800 with 1 Axes>"
      ],
      "image/png": "[encoded data removed]"
     },
     "metadata": {},
     "output_type": "display_data"
    }
   ],
   "execution_count": 149
  },
  {
   "metadata": {
    "ExecuteTime": {
     "end_time": "2025-01-09T03:55:47.396073Z",
     "start_time": "2025-01-09T03:55:47.391571Z"
    }
   },
   "cell_type": "code",
   "source": "cf.sort()",
   "id": "29d9fea07c4b794e",
   "outputs": [],
   "execution_count": 150
  },
  {
   "metadata": {
    "ExecuteTime": {
     "end_time": "2025-01-09T03:55:58.662068Z",
     "start_time": "2025-01-09T03:55:58.657058Z"
    }
   },
   "cell_type": "code",
   "source": "cf",
   "id": "e526a694f752d101",
   "outputs": [
    {
     "data": {
      "text/plain": [
       "array([-200,   20,   50,   50,   70,  100])"
      ]
     },
     "execution_count": 151,
     "metadata": {},
     "output_type": "execute_result"
    }
   ],
   "execution_count": 151
  },
  {
   "metadata": {
    "ExecuteTime": {
     "end_time": "2025-01-09T03:56:08.497302Z",
     "start_time": "2025-01-09T03:56:08.492898Z"
    }
   },
   "cell_type": "code",
   "source": "cf = cf + 0.0235",
   "id": "db700da6e637764f",
   "outputs": [],
   "execution_count": 152
  },
  {
   "metadata": {
    "ExecuteTime": {
     "end_time": "2025-01-09T03:56:12.854354Z",
     "start_time": "2025-01-09T03:56:12.848638Z"
    }
   },
   "cell_type": "code",
   "source": "cf",
   "id": "b5f1338900801c85",
   "outputs": [
    {
     "data": {
      "text/plain": [
       "array([-199.9765,   20.0235,   50.0235,   50.0235,   70.0235,  100.0235])"
      ]
     },
     "execution_count": 153,
     "metadata": {},
     "output_type": "execute_result"
    }
   ],
   "execution_count": 153
  },
  {
   "metadata": {
    "ExecuteTime": {
     "end_time": "2025-01-09T03:56:18.527325Z",
     "start_time": "2025-01-09T03:56:18.522361Z"
    }
   },
   "cell_type": "code",
   "source": "cf.round(2)",
   "id": "c25317578ecdbb49",
   "outputs": [
    {
     "data": {
      "text/plain": [
       "array([-199.98,   20.02,   50.02,   50.02,   70.02,  100.02])"
      ]
     },
     "execution_count": 154,
     "metadata": {},
     "output_type": "execute_result"
    }
   ],
   "execution_count": 154
  },
  {
   "metadata": {
    "ExecuteTime": {
     "end_time": "2025-01-09T03:56:26.216680Z",
     "start_time": "2025-01-09T03:56:26.211364Z"
    }
   },
   "cell_type": "code",
   "source": "cf.size",
   "id": "dfcf4b954f9b952d",
   "outputs": [
    {
     "data": {
      "text/plain": [
       "6"
      ]
     },
     "execution_count": 155,
     "metadata": {},
     "output_type": "execute_result"
    }
   ],
   "execution_count": 155
  },
  {
   "metadata": {
    "ExecuteTime": {
     "end_time": "2025-01-09T03:56:30.523635Z",
     "start_time": "2025-01-09T03:56:30.517925Z"
    }
   },
   "cell_type": "code",
   "source": "cf.shape",
   "id": "9abd75c83510b6b5",
   "outputs": [
    {
     "data": {
      "text/plain": [
       "(6,)"
      ]
     },
     "execution_count": 156,
     "metadata": {},
     "output_type": "execute_result"
    }
   ],
   "execution_count": 156
  },
  {
   "metadata": {},
   "cell_type": "markdown",
   "source": "# Numpy Universal Functions",
   "id": "2a23cf52cf7ca125"
  },
  {
   "metadata": {
    "ExecuteTime": {
     "end_time": "2025-01-09T03:57:51.881583Z",
     "start_time": "2025-01-09T03:57:51.878966Z"
    }
   },
   "cell_type": "code",
   "source": "import numpy as np",
   "id": "48301011b076a006",
   "outputs": [],
   "execution_count": 157
  },
  {
   "metadata": {
    "ExecuteTime": {
     "end_time": "2025-01-09T03:58:03.368544Z",
     "start_time": "2025-01-09T03:58:03.363927Z"
    }
   },
   "cell_type": "code",
   "source": [
    "cf = [100, 10, 20, 50, 30, 25]\n",
    "cf"
   ],
   "id": "6ddaad493616424e",
   "outputs": [
    {
     "data": {
      "text/plain": [
       "[100, 10, 20, 50, 30, 25]"
      ]
     },
     "execution_count": 158,
     "metadata": {},
     "output_type": "execute_result"
    }
   ],
   "execution_count": 158
  },
  {
   "metadata": {
    "ExecuteTime": {
     "end_time": "2025-01-09T03:58:10.865876Z",
     "start_time": "2025-01-09T03:58:10.860237Z"
    }
   },
   "cell_type": "code",
   "source": "np.sqrt(cf)",
   "id": "96457385c8f25f11",
   "outputs": [
    {
     "data": {
      "text/plain": [
       "array([10.        ,  3.16227766,  4.47213595,  7.07106781,  5.47722558,\n",
       "        5.        ])"
      ]
     },
     "execution_count": 159,
     "metadata": {},
     "output_type": "execute_result"
    }
   ],
   "execution_count": 159
  },
  {
   "metadata": {
    "ExecuteTime": {
     "end_time": "2025-01-09T03:58:24.568105Z",
     "start_time": "2025-01-09T03:58:24.564025Z"
    }
   },
   "cell_type": "code",
   "source": "np.exp(cf)",
   "id": "f5c4dd866654d4b1",
   "outputs": [
    {
     "data": {
      "text/plain": [
       "array([2.68811714e+43, 2.20264658e+04, 4.85165195e+08, 5.18470553e+21,\n",
       "       1.06864746e+13, 7.20048993e+10])"
      ]
     },
     "execution_count": 160,
     "metadata": {},
     "output_type": "execute_result"
    }
   ],
   "execution_count": 160
  },
  {
   "metadata": {
    "ExecuteTime": {
     "end_time": "2025-01-09T03:58:34.154122Z",
     "start_time": "2025-01-09T03:58:34.149657Z"
    }
   },
   "cell_type": "code",
   "source": "np.power(cf, 2)",
   "id": "165ce054e7e7a39",
   "outputs": [
    {
     "data": {
      "text/plain": [
       "array([10000,   100,   400,  2500,   900,   625])"
      ]
     },
     "execution_count": 161,
     "metadata": {},
     "output_type": "execute_result"
    }
   ],
   "execution_count": 161
  },
  {
   "metadata": {
    "ExecuteTime": {
     "end_time": "2025-01-09T03:59:19.536626Z",
     "start_time": "2025-01-09T03:59:19.532526Z"
    }
   },
   "cell_type": "code",
   "source": [
    "cf1 = [-200.6, 20.53, 50, 70.87, 100, 50]\n",
    "cf1"
   ],
   "id": "9c17873f943ac83a",
   "outputs": [
    {
     "data": {
      "text/plain": [
       "[-200.6, 20.53, 50, 70.87, 100, 50]"
      ]
     },
     "execution_count": 163,
     "metadata": {},
     "output_type": "execute_result"
    }
   ],
   "execution_count": 163
  },
  {
   "metadata": {
    "ExecuteTime": {
     "end_time": "2025-01-09T03:59:28.689926Z",
     "start_time": "2025-01-09T03:59:28.684732Z"
    }
   },
   "cell_type": "code",
   "source": "np.abs(cf1)",
   "id": "18e14a7dd58a694d",
   "outputs": [
    {
     "data": {
      "text/plain": [
       "array([200.6 ,  20.53,  50.  ,  70.87, 100.  ,  50.  ])"
      ]
     },
     "execution_count": 164,
     "metadata": {},
     "output_type": "execute_result"
    }
   ],
   "execution_count": 164
  },
  {
   "metadata": {
    "ExecuteTime": {
     "end_time": "2025-01-09T03:59:47.391259Z",
     "start_time": "2025-01-09T03:59:47.386396Z"
    }
   },
   "cell_type": "code",
   "source": "np.round(cf1, decimals=1)",
   "id": "e44b9beb2ff05914",
   "outputs": [
    {
     "data": {
      "text/plain": [
       "array([-200.6,   20.5,   50. ,   70.9,  100. ,   50. ])"
      ]
     },
     "execution_count": 165,
     "metadata": {},
     "output_type": "execute_result"
    }
   ],
   "execution_count": 165
  },
  {
   "metadata": {
    "ExecuteTime": {
     "end_time": "2025-01-09T03:59:56.028013Z",
     "start_time": "2025-01-09T03:59:56.023393Z"
    }
   },
   "cell_type": "code",
   "source": "np.ceil(cf1)",
   "id": "d47b04072d0f0aa7",
   "outputs": [
    {
     "data": {
      "text/plain": [
       "array([-200.,   21.,   50.,   71.,  100.,   50.])"
      ]
     },
     "execution_count": 166,
     "metadata": {},
     "output_type": "execute_result"
    }
   ],
   "execution_count": 166
  },
  {
   "metadata": {
    "ExecuteTime": {
     "end_time": "2025-01-09T04:00:00.504279Z",
     "start_time": "2025-01-09T04:00:00.498721Z"
    }
   },
   "cell_type": "code",
   "source": "np.floor(cf1)",
   "id": "27b28dd04bb5f9a1",
   "outputs": [
    {
     "data": {
      "text/plain": [
       "array([-201.,   20.,   50.,   70.,  100.,   50.])"
      ]
     },
     "execution_count": 167,
     "metadata": {},
     "output_type": "execute_result"
    }
   ],
   "execution_count": 167
  },
  {
   "metadata": {},
   "cell_type": "markdown",
   "source": "# Boolean Arrays and Conditional filtering",
   "id": "b67d54f0d749d8bd"
  },
  {
   "metadata": {
    "ExecuteTime": {
     "end_time": "2025-01-09T04:01:11.680508Z",
     "start_time": "2025-01-09T04:01:11.676559Z"
    }
   },
   "cell_type": "code",
   "source": "import numpy as np",
   "id": "77887304ca9b09a6",
   "outputs": [],
   "execution_count": 168
  },
  {
   "metadata": {
    "ExecuteTime": {
     "end_time": "2025-01-09T04:01:24.368541Z",
     "start_time": "2025-01-09T04:01:24.361836Z"
    }
   },
   "cell_type": "code",
   "source": [
    "cf = np.array([-200, 20, 50, 70, 100, 50])\n",
    "cf"
   ],
   "id": "69f9e50b03cd22d",
   "outputs": [
    {
     "data": {
      "text/plain": [
       "array([-200,   20,   50,   70,  100,   50])"
      ]
     },
     "execution_count": 169,
     "metadata": {},
     "output_type": "execute_result"
    }
   ],
   "execution_count": 169
  },
  {
   "metadata": {
    "ExecuteTime": {
     "end_time": "2025-01-09T04:01:28.502254Z",
     "start_time": "2025-01-09T04:01:28.497190Z"
    }
   },
   "cell_type": "code",
   "source": "cf < 0",
   "id": "e153723cbcd38b49",
   "outputs": [
    {
     "data": {
      "text/plain": [
       "array([ True, False, False, False, False, False])"
      ]
     },
     "execution_count": 170,
     "metadata": {},
     "output_type": "execute_result"
    }
   ],
   "execution_count": 170
  },
  {
   "metadata": {
    "ExecuteTime": {
     "end_time": "2025-01-09T04:01:54.885284Z",
     "start_time": "2025-01-09T04:01:54.881095Z"
    }
   },
   "cell_type": "code",
   "source": [
    "negative = cf < 0\n",
    "negative"
   ],
   "id": "fbad8fab8ff53876",
   "outputs": [
    {
     "data": {
      "text/plain": [
       "array([ True, False, False, False, False, False])"
      ]
     },
     "execution_count": 171,
     "metadata": {},
     "output_type": "execute_result"
    }
   ],
   "execution_count": 171
  },
  {
   "metadata": {
    "ExecuteTime": {
     "end_time": "2025-01-09T04:02:08.743805Z",
     "start_time": "2025-01-09T04:02:08.738761Z"
    }
   },
   "cell_type": "code",
   "source": [
    "positive = cf > 0\n",
    "positive"
   ],
   "id": "18a99905304d160f",
   "outputs": [
    {
     "data": {
      "text/plain": [
       "array([False,  True,  True,  True,  True,  True])"
      ]
     },
     "execution_count": 172,
     "metadata": {},
     "output_type": "execute_result"
    }
   ],
   "execution_count": 172
  },
  {
   "metadata": {
    "ExecuteTime": {
     "end_time": "2025-01-09T04:02:22.951746Z",
     "start_time": "2025-01-09T04:02:22.946225Z"
    }
   },
   "cell_type": "code",
   "source": "cf[negative]",
   "id": "c93d109072b08b0e",
   "outputs": [
    {
     "data": {
      "text/plain": [
       "array([-200])"
      ]
     },
     "execution_count": 173,
     "metadata": {},
     "output_type": "execute_result"
    }
   ],
   "execution_count": 173
  },
  {
   "metadata": {
    "ExecuteTime": {
     "end_time": "2025-01-09T04:02:29.548316Z",
     "start_time": "2025-01-09T04:02:29.542852Z"
    }
   },
   "cell_type": "code",
   "source": "cf[positive]",
   "id": "fb758def1e1e1d59",
   "outputs": [
    {
     "data": {
      "text/plain": [
       "array([ 20,  50,  70, 100,  50])"
      ]
     },
     "execution_count": 174,
     "metadata": {},
     "output_type": "execute_result"
    }
   ],
   "execution_count": 174
  },
  {
   "metadata": {
    "ExecuteTime": {
     "end_time": "2025-01-09T04:03:12.844874Z",
     "start_time": "2025-01-09T04:03:12.840594Z"
    }
   },
   "cell_type": "code",
   "source": [
    "neg = cf[cf < 0]\n",
    "neg"
   ],
   "id": "e4dabb98d9aa7e6c",
   "outputs": [
    {
     "data": {
      "text/plain": [
       "array([-200])"
      ]
     },
     "execution_count": 175,
     "metadata": {},
     "output_type": "execute_result"
    }
   ],
   "execution_count": 175
  },
  {
   "metadata": {
    "ExecuteTime": {
     "end_time": "2025-01-09T04:03:23.459340Z",
     "start_time": "2025-01-09T04:03:23.455040Z"
    }
   },
   "cell_type": "code",
   "source": [
    "pos = cf[cf > 0]\n",
    "pos"
   ],
   "id": "1be98827d7d423b7",
   "outputs": [
    {
     "data": {
      "text/plain": [
       "array([ 20,  50,  70, 100,  50])"
      ]
     },
     "execution_count": 176,
     "metadata": {},
     "output_type": "execute_result"
    }
   ],
   "execution_count": 176
  },
  {
   "metadata": {
    "ExecuteTime": {
     "end_time": "2025-01-09T04:03:45.258412Z",
     "start_time": "2025-01-09T04:03:45.255111Z"
    }
   },
   "cell_type": "code",
   "source": "pos[0] = 30",
   "id": "1353b6599ab4febc",
   "outputs": [],
   "execution_count": 177
  },
  {
   "metadata": {
    "ExecuteTime": {
     "end_time": "2025-01-09T04:03:48.743543Z",
     "start_time": "2025-01-09T04:03:48.738018Z"
    }
   },
   "cell_type": "code",
   "source": "pos",
   "id": "3542ba39d3debb10",
   "outputs": [
    {
     "data": {
      "text/plain": [
       "array([ 30,  50,  70, 100,  50])"
      ]
     },
     "execution_count": 178,
     "metadata": {},
     "output_type": "execute_result"
    }
   ],
   "execution_count": 178
  },
  {
   "metadata": {
    "ExecuteTime": {
     "end_time": "2025-01-09T04:03:53.689900Z",
     "start_time": "2025-01-09T04:03:53.685670Z"
    }
   },
   "cell_type": "code",
   "source": "cf",
   "id": "5d1160d28adb25a8",
   "outputs": [
    {
     "data": {
      "text/plain": [
       "array([-200,   20,   50,   70,  100,   50])"
      ]
     },
     "execution_count": 179,
     "metadata": {},
     "output_type": "execute_result"
    }
   ],
   "execution_count": 179
  },
  {
   "metadata": {},
   "cell_type": "markdown",
   "source": "# Advanced Filtering & Bitwise Operators",
   "id": "dedcdcf51551656a"
  },
  {
   "metadata": {
    "ExecuteTime": {
     "end_time": "2025-01-09T13:27:13.704010Z",
     "start_time": "2025-01-09T13:27:13.699968Z"
    }
   },
   "cell_type": "code",
   "source": "import numpy as np",
   "id": "c8bbbf8694ec3d14",
   "outputs": [],
   "execution_count": 180
  },
  {
   "metadata": {
    "ExecuteTime": {
     "end_time": "2025-01-09T13:27:26.128471Z",
     "start_time": "2025-01-09T13:27:26.123120Z"
    }
   },
   "cell_type": "code",
   "source": [
    "cf = np.array([-200, 20, 50, 70, 100, 50])\n",
    "cf"
   ],
   "id": "257b149e71edbe6e",
   "outputs": [
    {
     "data": {
      "text/plain": [
       "array([-200,   20,   50,   70,  100,   50])"
      ]
     },
     "execution_count": 181,
     "metadata": {},
     "output_type": "execute_result"
    }
   ],
   "execution_count": 181
  },
  {
   "metadata": {
    "ExecuteTime": {
     "end_time": "2025-01-09T13:27:41.309379Z",
     "start_time": "2025-01-09T13:27:41.304375Z"
    }
   },
   "cell_type": "code",
   "source": [
    "mask1 = cf < 0\n",
    "mask1"
   ],
   "id": "3ae1a88f0b1d6194",
   "outputs": [
    {
     "data": {
      "text/plain": [
       "array([ True, False, False, False, False, False])"
      ]
     },
     "execution_count": 183,
     "metadata": {},
     "output_type": "execute_result"
    }
   ],
   "execution_count": 183
  },
  {
   "metadata": {
    "ExecuteTime": {
     "end_time": "2025-01-09T13:28:06.856580Z",
     "start_time": "2025-01-09T13:28:06.852849Z"
    }
   },
   "cell_type": "code",
   "source": [
    "mask2 = np.abs(cf) > 60\n",
    "mask2"
   ],
   "id": "619ca7fc0ed4f47c",
   "outputs": [
    {
     "data": {
      "text/plain": [
       "array([ True, False, False,  True,  True, False])"
      ]
     },
     "execution_count": 184,
     "metadata": {},
     "output_type": "execute_result"
    }
   ],
   "execution_count": 184
  },
  {
   "metadata": {
    "ExecuteTime": {
     "end_time": "2025-01-09T13:34:50.163985Z",
     "start_time": "2025-01-09T13:34:50.150419Z"
    }
   },
   "cell_type": "code",
   "source": "mask1 or mask2",
   "id": "c18a47876938ca59",
   "outputs": [
    {
     "ename": "ValueError",
     "evalue": "The truth value of an array with more than one element is ambiguous. Use a.any() or a.all()",
     "output_type": "error",
     "traceback": [
      "\u001B[1;31m---------------------------------------------------------------------------\u001B[0m",
      "\u001B[1;31mValueError\u001B[0m                                Traceback (most recent call last)",
      "Cell \u001B[1;32mIn[186], line 1\u001B[0m\n\u001B[1;32m----> 1\u001B[0m \u001B[43mmask1\u001B[49m\u001B[43m \u001B[49m\u001B[38;5;129;43;01mor\u001B[39;49;00m\u001B[43m \u001B[49m\u001B[43mmask2\u001B[49m\n",
      "\u001B[1;31mValueError\u001B[0m: The truth value of an array with more than one element is ambiguous. Use a.any() or a.all()"
     ]
    }
   ],
   "execution_count": 186
  },
  {
   "metadata": {
    "ExecuteTime": {
     "end_time": "2025-01-09T13:35:18.497868Z",
     "start_time": "2025-01-09T13:35:18.492569Z"
    }
   },
   "cell_type": "code",
   "source": "mask1 | mask2",
   "id": "45d3d01250b1233c",
   "outputs": [
    {
     "data": {
      "text/plain": [
       "array([ True, False, False,  True,  True, False])"
      ]
     },
     "execution_count": 187,
     "metadata": {},
     "output_type": "execute_result"
    }
   ],
   "execution_count": 187
  },
  {
   "metadata": {
    "ExecuteTime": {
     "end_time": "2025-01-09T13:45:22.412428Z",
     "start_time": "2025-01-09T13:45:22.407416Z"
    }
   },
   "cell_type": "code",
   "source": "cf[mask1 | mask2]",
   "id": "c9bebeafd6551598",
   "outputs": [
    {
     "data": {
      "text/plain": [
       "array([-200,   70,  100])"
      ]
     },
     "execution_count": 188,
     "metadata": {},
     "output_type": "execute_result"
    }
   ],
   "execution_count": 188
  },
  {
   "metadata": {
    "ExecuteTime": {
     "end_time": "2025-01-09T13:45:51.699555Z",
     "start_time": "2025-01-09T13:45:51.687317Z"
    }
   },
   "cell_type": "code",
   "source": "not(mask1 | mask2)",
   "id": "1ac6d4ea49e712fb",
   "outputs": [
    {
     "ename": "ValueError",
     "evalue": "The truth value of an array with more than one element is ambiguous. Use a.any() or a.all()",
     "output_type": "error",
     "traceback": [
      "\u001B[1;31m---------------------------------------------------------------------------\u001B[0m",
      "\u001B[1;31mValueError\u001B[0m                                Traceback (most recent call last)",
      "Cell \u001B[1;32mIn[189], line 1\u001B[0m\n\u001B[1;32m----> 1\u001B[0m \u001B[38;5;129;01mnot\u001B[39;00m(mask1 \u001B[38;5;241m|\u001B[39m mask2)\n",
      "\u001B[1;31mValueError\u001B[0m: The truth value of an array with more than one element is ambiguous. Use a.any() or a.all()"
     ]
    }
   ],
   "execution_count": 189
  },
  {
   "metadata": {
    "ExecuteTime": {
     "end_time": "2025-01-09T13:46:01.679482Z",
     "start_time": "2025-01-09T13:46:01.673123Z"
    }
   },
   "cell_type": "code",
   "source": "~(mask1 | mask2)",
   "id": "48ee7af2f4e3e197",
   "outputs": [
    {
     "data": {
      "text/plain": [
       "array([False,  True,  True, False, False,  True])"
      ]
     },
     "execution_count": 190,
     "metadata": {},
     "output_type": "execute_result"
    }
   ],
   "execution_count": 190
  },
  {
   "metadata": {
    "ExecuteTime": {
     "end_time": "2025-01-09T13:46:28.106506Z",
     "start_time": "2025-01-09T13:46:28.100729Z"
    }
   },
   "cell_type": "code",
   "source": "cf[~(mask1 | mask2)]",
   "id": "f696002f9ee9ff0c",
   "outputs": [
    {
     "data": {
      "text/plain": [
       "array([20, 50, 50])"
      ]
     },
     "execution_count": 191,
     "metadata": {},
     "output_type": "execute_result"
    }
   ],
   "execution_count": 191
  },
  {
   "metadata": {
    "ExecuteTime": {
     "end_time": "2025-01-09T13:46:56.391944Z",
     "start_time": "2025-01-09T13:46:56.388615Z"
    }
   },
   "cell_type": "code",
   "source": "mask3 = cf >= 0",
   "id": "c1462ee3e629c876",
   "outputs": [],
   "execution_count": 192
  },
  {
   "metadata": {
    "ExecuteTime": {
     "end_time": "2025-01-09T13:47:04.711887Z",
     "start_time": "2025-01-09T13:47:04.709121Z"
    }
   },
   "cell_type": "code",
   "source": "mask4 = cf < 30",
   "id": "f9ada765e0a19868",
   "outputs": [],
   "execution_count": 193
  },
  {
   "metadata": {
    "ExecuteTime": {
     "end_time": "2025-01-09T13:47:13.289196Z",
     "start_time": "2025-01-09T13:47:13.276145Z"
    }
   },
   "cell_type": "code",
   "source": "cf[mask3 and mask4]",
   "id": "f9320b7fbb2b4946",
   "outputs": [
    {
     "ename": "ValueError",
     "evalue": "The truth value of an array with more than one element is ambiguous. Use a.any() or a.all()",
     "output_type": "error",
     "traceback": [
      "\u001B[1;31m---------------------------------------------------------------------------\u001B[0m",
      "\u001B[1;31mValueError\u001B[0m                                Traceback (most recent call last)",
      "Cell \u001B[1;32mIn[194], line 1\u001B[0m\n\u001B[1;32m----> 1\u001B[0m cf[\u001B[43mmask3\u001B[49m\u001B[43m \u001B[49m\u001B[38;5;129;43;01mand\u001B[39;49;00m\u001B[43m \u001B[49m\u001B[43mmask4\u001B[49m]\n",
      "\u001B[1;31mValueError\u001B[0m: The truth value of an array with more than one element is ambiguous. Use a.any() or a.all()"
     ]
    }
   ],
   "execution_count": 194
  },
  {
   "metadata": {
    "ExecuteTime": {
     "end_time": "2025-01-09T13:47:22.213172Z",
     "start_time": "2025-01-09T13:47:22.208229Z"
    }
   },
   "cell_type": "code",
   "source": "cf[mask3 & mask4]",
   "id": "1cf47b37a11e58ad",
   "outputs": [
    {
     "data": {
      "text/plain": [
       "array([20])"
      ]
     },
     "execution_count": 195,
     "metadata": {},
     "output_type": "execute_result"
    }
   ],
   "execution_count": 195
  },
  {
   "metadata": {},
   "cell_type": "markdown",
   "source": "# Determining a Project's Payback Period with np.where()",
   "id": "ecb7b8dcdabbcd74"
  },
  {
   "metadata": {
    "ExecuteTime": {
     "end_time": "2025-01-09T13:49:15.539185Z",
     "start_time": "2025-01-09T13:49:15.534684Z"
    }
   },
   "cell_type": "code",
   "source": "import numpy as np",
   "id": "30a621a46e228715",
   "outputs": [],
   "execution_count": 196
  },
  {
   "metadata": {},
   "cell_type": "markdown",
   "source": [
    "The XYZ Company evaluates to buy an additional machine that will increase profits/cashflows by\n",
    "- 20 USD in t1,\n",
    "- 50 USD in t2,\n",
    "- 70 USD in t3,\n",
    "- 100 USD in t4,\n",
    "- 50 USD in t5. (each cf at period's end)\n",
    "\n",
    "The machine costs 200 USD (Investment in to).\n",
    "- Calculate the **Payback Period** (Time until initial Investment is recovered)"
   ],
   "id": "2fadc1f2083b3437"
  },
  {
   "metadata": {
    "ExecuteTime": {
     "end_time": "2025-01-09T13:51:40.134295Z",
     "start_time": "2025-01-09T13:51:40.129333Z"
    }
   },
   "cell_type": "code",
   "source": [
    "cf = np.array([-200, 20, 50, 70, 100, 50])\n",
    "cf"
   ],
   "id": "730c2ddb8991cb35",
   "outputs": [
    {
     "data": {
      "text/plain": [
       "array([-200,   20,   50,   70,  100,   50])"
      ]
     },
     "execution_count": 197,
     "metadata": {},
     "output_type": "execute_result"
    }
   ],
   "execution_count": 197
  },
  {
   "metadata": {
    "ExecuteTime": {
     "end_time": "2025-01-09T13:51:52.971614Z",
     "start_time": "2025-01-09T13:51:52.967168Z"
    }
   },
   "cell_type": "code",
   "source": "cf.cumsum() > 0",
   "id": "fb25ff31574d0dd8",
   "outputs": [
    {
     "data": {
      "text/plain": [
       "array([False, False, False, False,  True,  True])"
      ]
     },
     "execution_count": 198,
     "metadata": {},
     "output_type": "execute_result"
    }
   ],
   "execution_count": 198
  },
  {
   "metadata": {
    "ExecuteTime": {
     "end_time": "2025-01-09T14:01:25.525336Z",
     "start_time": "2025-01-09T14:01:25.520085Z"
    }
   },
   "cell_type": "code",
   "source": "np.where(cf.cumsum() > 0)",
   "id": "e6600f6164a3003c",
   "outputs": [
    {
     "data": {
      "text/plain": [
       "(array([4, 5]),)"
      ]
     },
     "execution_count": 199,
     "metadata": {},
     "output_type": "execute_result"
    }
   ],
   "execution_count": 199
  },
  {
   "metadata": {
    "ExecuteTime": {
     "end_time": "2025-01-09T19:44:09.111257Z",
     "start_time": "2025-01-09T19:44:09.093701Z"
    }
   },
   "cell_type": "code",
   "source": "np.where(cf.cumsum() > 0)[0][0]",
   "id": "8a09ffb8b6100af8",
   "outputs": [
    {
     "data": {
      "text/plain": [
       "np.int64(4)"
      ]
     },
     "execution_count": 200,
     "metadata": {},
     "output_type": "execute_result"
    }
   ],
   "execution_count": 200
  },
  {
   "metadata": {
    "ExecuteTime": {
     "end_time": "2025-01-09T19:55:14.559566Z",
     "start_time": "2025-01-09T19:55:14.548682Z"
    }
   },
   "cell_type": "code",
   "source": "np.nonzero(cf.cumsum() > 0)[0][0]",
   "id": "18ceacf99fc73d32",
   "outputs": [
    {
     "data": {
      "text/plain": [
       "np.int64(4)"
      ]
     },
     "execution_count": 201,
     "metadata": {},
     "output_type": "execute_result"
    }
   ],
   "execution_count": 201
  },
  {
   "metadata": {},
   "cell_type": "code",
   "outputs": [],
   "execution_count": null,
   "source": "",
   "id": "c77fa73d233a0a91"
  }
 ],
 "metadata": {
  "kernelspec": {
   "display_name": "Python 3",
   "language": "python",
   "name": "python3"
  },
  "language_info": {
   "codemirror_mode": {
    "name": "ipython",
    "version": 2
   },
   "file_extension": ".py",
   "mimetype": "text/x-python",
   "name": "python",
   "nbconvert_exporter": "python",
   "pygments_lexer": "ipython2",
   "version": "2.7.6"
  }
 },
 "nbformat": 4,
 "nbformat_minor": 5
}
