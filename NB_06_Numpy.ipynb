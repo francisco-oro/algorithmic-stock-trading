{
 "cells": [
  {
   "cell_type": "code",
   "id": "initial_id",
   "metadata": {
    "collapsed": true,
    "ExecuteTime": {
     "end_time": "2025-01-08T22:11:39.566675Z",
     "start_time": "2025-01-08T22:11:39.562954Z"
    }
   },
   "source": [
    "PV = 100\n",
    "f = 1.03\n",
    "n = 2"
   ],
   "outputs": [],
   "execution_count": 9
  },
  {
   "metadata": {
    "ExecuteTime": {
     "end_time": "2025-01-08T22:11:39.630845Z",
     "start_time": "2025-01-08T22:11:39.625310Z"
    }
   },
   "cell_type": "code",
   "source": [
    "FV  = PV * f**n\n",
    "FV"
   ],
   "id": "311782e4de918d18",
   "outputs": [
    {
     "data": {
      "text/plain": [
       "106.08999999999999"
      ]
     },
     "execution_count": 10,
     "metadata": {},
     "output_type": "execute_result"
    }
   ],
   "execution_count": 10
  },
  {
   "metadata": {
    "ExecuteTime": {
     "end_time": "2025-01-08T22:11:39.668016Z",
     "start_time": "2025-01-08T22:11:39.664110Z"
    }
   },
   "cell_type": "code",
   "source": "import math",
   "id": "baf1c906632e0a15",
   "outputs": [],
   "execution_count": 11
  },
  {
   "metadata": {
    "ExecuteTime": {
     "end_time": "2025-01-08T22:11:39.696439Z",
     "start_time": "2025-01-08T22:11:39.691059Z"
    }
   },
   "cell_type": "code",
   "source": [
    "FV = PV * math.pow(f,n)\n",
    "FV"
   ],
   "id": "640a6a3cdc255d23",
   "outputs": [
    {
     "data": {
      "text/plain": [
       "106.08999999999999"
      ]
     },
     "execution_count": 12,
     "metadata": {},
     "output_type": "execute_result"
    }
   ],
   "execution_count": 12
  },
  {
   "metadata": {
    "ExecuteTime": {
     "end_time": "2025-01-08T22:11:39.804701Z",
     "start_time": "2025-01-08T22:11:39.798149Z"
    }
   },
   "cell_type": "code",
   "source": "math.sqrt(FV/PV) - 1",
   "id": "15ef61dcce9d5f7f",
   "outputs": [
    {
     "data": {
      "text/plain": [
       "0.030000000000000027"
      ]
     },
     "execution_count": 13,
     "metadata": {},
     "output_type": "execute_result"
    }
   ],
   "execution_count": 13
  },
  {
   "metadata": {
    "ExecuteTime": {
     "end_time": "2025-01-08T22:11:39.936155Z",
     "start_time": "2025-01-08T22:11:39.930800Z"
    }
   },
   "cell_type": "code",
   "source": "math.sin(3)",
   "id": "e401e4e190e153b8",
   "outputs": [
    {
     "data": {
      "text/plain": [
       "0.1411200080598672"
      ]
     },
     "execution_count": 14,
     "metadata": {},
     "output_type": "execute_result"
    }
   ],
   "execution_count": 14
  },
  {
   "metadata": {
    "ExecuteTime": {
     "end_time": "2025-01-08T22:11:40.046015Z",
     "start_time": "2025-01-08T22:11:40.040197Z"
    }
   },
   "cell_type": "code",
   "source": "math.e",
   "id": "910abefdb921870f",
   "outputs": [
    {
     "data": {
      "text/plain": [
       "2.718281828459045"
      ]
     },
     "execution_count": 15,
     "metadata": {},
     "output_type": "execute_result"
    }
   ],
   "execution_count": 15
  },
  {
   "metadata": {
    "ExecuteTime": {
     "end_time": "2025-01-08T22:11:39.542043Z",
     "start_time": "2025-01-08T22:11:39.536248Z"
    }
   },
   "cell_type": "code",
   "source": "math.pi",
   "id": "9e9be70b1625504c",
   "outputs": [
    {
     "data": {
      "text/plain": [
       "3.141592653589793"
      ]
     },
     "execution_count": 8,
     "metadata": {},
     "output_type": "execute_result"
    }
   ],
   "execution_count": 8
  },
  {
   "metadata": {
    "ExecuteTime": {
     "end_time": "2025-01-08T22:13:54.777079Z",
     "start_time": "2025-01-08T22:13:54.771772Z"
    }
   },
   "cell_type": "code",
   "source": "import math as ma",
   "id": "9fbff38461940b35",
   "outputs": [],
   "execution_count": 17
  },
  {
   "metadata": {
    "ExecuteTime": {
     "end_time": "2025-01-08T22:13:54.800287Z",
     "start_time": "2025-01-08T22:13:54.794220Z"
    }
   },
   "cell_type": "code",
   "source": "ma.pi",
   "id": "5a396cd0ce360ae5",
   "outputs": [
    {
     "data": {
      "text/plain": [
       "3.141592653589793"
      ]
     },
     "execution_count": 18,
     "metadata": {},
     "output_type": "execute_result"
    }
   ],
   "execution_count": 18
  },
  {
   "metadata": {
    "ExecuteTime": {
     "end_time": "2025-01-08T22:14:04.564451Z",
     "start_time": "2025-01-08T22:14:04.561593Z"
    }
   },
   "cell_type": "code",
   "source": "from math import sqrt",
   "id": "b0b0797cbbe8641c",
   "outputs": [],
   "execution_count": 19
  },
  {
   "metadata": {
    "ExecuteTime": {
     "end_time": "2025-01-08T22:14:38.384894Z",
     "start_time": "2025-01-08T22:14:38.379341Z"
    }
   },
   "cell_type": "code",
   "source": "sqrt(FV/PV) -1",
   "id": "92d5b8ca3b2d4678",
   "outputs": [
    {
     "data": {
      "text/plain": [
       "0.030000000000000027"
      ]
     },
     "execution_count": 20,
     "metadata": {},
     "output_type": "execute_result"
    }
   ],
   "execution_count": 20
  },
  {
   "metadata": {
    "ExecuteTime": {
     "end_time": "2025-01-08T22:16:58.633035Z",
     "start_time": "2025-01-08T22:16:58.479833Z"
    }
   },
   "cell_type": "code",
   "source": "import numpy as np",
   "id": "8a36ffc38c93f32a",
   "outputs": [],
   "execution_count": 23
  },
  {
   "metadata": {
    "ExecuteTime": {
     "end_time": "2025-01-08T22:17:08.127633Z",
     "start_time": "2025-01-08T22:17:08.120008Z"
    }
   },
   "cell_type": "code",
   "source": "np.sqrt(FV/PV)",
   "id": "67285c1deab63d96",
   "outputs": [
    {
     "data": {
      "text/plain": [
       "np.float64(1.03)"
      ]
     },
     "execution_count": 24,
     "metadata": {},
     "output_type": "execute_result"
    }
   ],
   "execution_count": 24
  },
  {
   "metadata": {
    "ExecuteTime": {
     "end_time": "2025-01-08T22:17:22.167390Z",
     "start_time": "2025-01-08T22:17:22.161954Z"
    }
   },
   "cell_type": "code",
   "source": "PV * np.power(f, n)",
   "id": "6e9cdb238ba37280",
   "outputs": [
    {
     "data": {
      "text/plain": [
       "np.float64(106.08999999999999)"
      ]
     },
     "execution_count": 25,
     "metadata": {},
     "output_type": "execute_result"
    }
   ],
   "execution_count": 25
  },
  {
   "metadata": {},
   "cell_type": "markdown",
   "source": "# Numpy Arrays",
   "id": "396e56b772456f8a"
  },
  {
   "metadata": {
    "ExecuteTime": {
     "end_time": "2025-01-08T22:18:15.495704Z",
     "start_time": "2025-01-08T22:18:15.491519Z"
    }
   },
   "cell_type": "code",
   "source": "import numpy as np",
   "id": "5315f0b222084779",
   "outputs": [],
   "execution_count": 26
  },
  {
   "metadata": {
    "ExecuteTime": {
     "end_time": "2025-01-08T22:18:43.258288Z",
     "start_time": "2025-01-08T22:18:43.248790Z"
    }
   },
   "cell_type": "code",
   "source": [
    "cf = [50, 100, 120, 150, 200, 300]\n",
    "cf"
   ],
   "id": "c328a7ce46717762",
   "outputs": [
    {
     "data": {
      "text/plain": [
       "[50, 100, 120, 150, 200, 300]"
      ]
     },
     "execution_count": 29,
     "metadata": {},
     "output_type": "execute_result"
    }
   ],
   "execution_count": 29
  },
  {
   "metadata": {
    "ExecuteTime": {
     "end_time": "2025-01-08T22:18:56.002566Z",
     "start_time": "2025-01-08T22:18:55.995961Z"
    }
   },
   "cell_type": "code",
   "source": [
    "cf_a = np.array(cf)\n",
    "cf_a"
   ],
   "id": "4b476776bd0128a5",
   "outputs": [
    {
     "data": {
      "text/plain": [
       "array([ 50, 100, 120, 150, 200, 300])"
      ]
     },
     "execution_count": 31,
     "metadata": {},
     "output_type": "execute_result"
    }
   ],
   "execution_count": 31
  },
  {
   "metadata": {
    "ExecuteTime": {
     "end_time": "2025-01-08T22:19:01.656609Z",
     "start_time": "2025-01-08T22:19:01.650396Z"
    }
   },
   "cell_type": "code",
   "source": "type(cf_a)",
   "id": "179547c251f262bc",
   "outputs": [
    {
     "data": {
      "text/plain": [
       "numpy.ndarray"
      ]
     },
     "execution_count": 32,
     "metadata": {},
     "output_type": "execute_result"
    }
   ],
   "execution_count": 32
  },
  {
   "metadata": {
    "ExecuteTime": {
     "end_time": "2025-01-08T22:19:08.151486Z",
     "start_time": "2025-01-08T22:19:08.125571Z"
    }
   },
   "cell_type": "code",
   "source": "cf - 20",
   "id": "5cefb9e6799bf2ac",
   "outputs": [
    {
     "ename": "TypeError",
     "evalue": "unsupported operand type(s) for -: 'list' and 'int'",
     "output_type": "error",
     "traceback": [
      "\u001B[1;31m---------------------------------------------------------------------------\u001B[0m",
      "\u001B[1;31mTypeError\u001B[0m                                 Traceback (most recent call last)",
      "Cell \u001B[1;32mIn[33], line 1\u001B[0m\n\u001B[1;32m----> 1\u001B[0m \u001B[43mcf\u001B[49m\u001B[43m \u001B[49m\u001B[38;5;241;43m-\u001B[39;49m\u001B[43m \u001B[49m\u001B[38;5;241;43m20\u001B[39;49m\n",
      "\u001B[1;31mTypeError\u001B[0m: unsupported operand type(s) for -: 'list' and 'int'"
     ]
    }
   ],
   "execution_count": 33
  },
  {
   "metadata": {
    "ExecuteTime": {
     "end_time": "2025-01-08T22:19:24.763650Z",
     "start_time": "2025-01-08T22:19:24.748509Z"
    }
   },
   "cell_type": "code",
   "source": "cf * 1.1",
   "id": "419a334f4a3a4f23",
   "outputs": [
    {
     "ename": "TypeError",
     "evalue": "can't multiply sequence by non-int of type 'float'",
     "output_type": "error",
     "traceback": [
      "\u001B[1;31m---------------------------------------------------------------------------\u001B[0m",
      "\u001B[1;31mTypeError\u001B[0m                                 Traceback (most recent call last)",
      "Cell \u001B[1;32mIn[34], line 1\u001B[0m\n\u001B[1;32m----> 1\u001B[0m \u001B[43mcf\u001B[49m\u001B[43m \u001B[49m\u001B[38;5;241;43m*\u001B[39;49m\u001B[43m \u001B[49m\u001B[38;5;241;43m1.1\u001B[39;49m\n",
      "\u001B[1;31mTypeError\u001B[0m: can't multiply sequence by non-int of type 'float'"
     ]
    }
   ],
   "execution_count": 34
  },
  {
   "metadata": {
    "ExecuteTime": {
     "end_time": "2025-01-08T22:20:09.524309Z",
     "start_time": "2025-01-08T22:20:09.519246Z"
    }
   },
   "cell_type": "code",
   "source": "cf * 2",
   "id": "2b43f0d071872e60",
   "outputs": [
    {
     "data": {
      "text/plain": [
       "[50, 100, 120, 150, 200, 300, 50, 100, 120, 150, 200, 300]"
      ]
     },
     "execution_count": 35,
     "metadata": {},
     "output_type": "execute_result"
    }
   ],
   "execution_count": 35
  },
  {
   "metadata": {
    "ExecuteTime": {
     "end_time": "2025-01-08T22:20:34.456934Z",
     "start_time": "2025-01-08T22:20:34.449775Z"
    }
   },
   "cell_type": "code",
   "source": [
    "cf_new = []\n",
    "for i in cf:\n",
    "    cf_new.append(i - 20)\n",
    "cf_new"
   ],
   "id": "d6fd764b8597f49e",
   "outputs": [
    {
     "data": {
      "text/plain": [
       "[30, 80, 100, 130, 180, 280]"
      ]
     },
     "execution_count": 36,
     "metadata": {},
     "output_type": "execute_result"
    }
   ],
   "execution_count": 36
  },
  {
   "metadata": {
    "ExecuteTime": {
     "end_time": "2025-01-08T22:20:55.977298Z",
     "start_time": "2025-01-08T22:20:55.971009Z"
    }
   },
   "cell_type": "code",
   "source": "cf_a - 20",
   "id": "d19780beec338821",
   "outputs": [
    {
     "data": {
      "text/plain": [
       "array([ 30,  80, 100, 130, 180, 280])"
      ]
     },
     "execution_count": 37,
     "metadata": {},
     "output_type": "execute_result"
    }
   ],
   "execution_count": 37
  },
  {
   "metadata": {
    "ExecuteTime": {
     "end_time": "2025-01-08T22:21:10.263490Z",
     "start_time": "2025-01-08T22:21:10.258626Z"
    }
   },
   "cell_type": "code",
   "source": "cf_a * 1.1",
   "id": "fa965d4cdf2e3285",
   "outputs": [
    {
     "data": {
      "text/plain": [
       "array([ 55., 110., 132., 165., 220., 330.])"
      ]
     },
     "execution_count": 38,
     "metadata": {},
     "output_type": "execute_result"
    }
   ],
   "execution_count": 38
  },
  {
   "metadata": {
    "ExecuteTime": {
     "end_time": "2025-01-08T22:21:18.711464Z",
     "start_time": "2025-01-08T22:21:18.705470Z"
    }
   },
   "cell_type": "code",
   "source": "cf_a * 2",
   "id": "782ebf28365cca50",
   "outputs": [
    {
     "data": {
      "text/plain": [
       "array([100, 200, 240, 300, 400, 600])"
      ]
     },
     "execution_count": 39,
     "metadata": {},
     "output_type": "execute_result"
    }
   ],
   "execution_count": 39
  },
  {
   "metadata": {
    "ExecuteTime": {
     "end_time": "2025-01-08T22:21:23.031599Z",
     "start_time": "2025-01-08T22:21:23.026295Z"
    }
   },
   "cell_type": "code",
   "source": "cf_a",
   "id": "c5ab9df1ac4d435e",
   "outputs": [
    {
     "data": {
      "text/plain": [
       "array([ 50, 100, 120, 150, 200, 300])"
      ]
     },
     "execution_count": 40,
     "metadata": {},
     "output_type": "execute_result"
    }
   ],
   "execution_count": 40
  },
  {
   "metadata": {
    "ExecuteTime": {
     "end_time": "2025-01-08T22:21:58.992811Z",
     "start_time": "2025-01-08T22:21:58.987677Z"
    }
   },
   "cell_type": "code",
   "source": [
    "add_cf = np.array([10,20, -10, 30, 10, -5])\n",
    "add_cf"
   ],
   "id": "541f71b6769d6f4a",
   "outputs": [
    {
     "data": {
      "text/plain": [
       "array([ 10,  20, -10,  30,  10,  -5])"
      ]
     },
     "execution_count": 41,
     "metadata": {},
     "output_type": "execute_result"
    }
   ],
   "execution_count": 41
  },
  {
   "metadata": {
    "ExecuteTime": {
     "end_time": "2025-01-08T22:22:06.535290Z",
     "start_time": "2025-01-08T22:22:06.530981Z"
    }
   },
   "cell_type": "code",
   "source": "cf_a + add_cf",
   "id": "77d7d081dcfd692d",
   "outputs": [
    {
     "data": {
      "text/plain": [
       "array([ 60, 120, 110, 180, 210, 295])"
      ]
     },
     "execution_count": 42,
     "metadata": {},
     "output_type": "execute_result"
    }
   ],
   "execution_count": 42
  },
  {
   "metadata": {
    "ExecuteTime": {
     "end_time": "2025-01-08T22:26:19.566290Z",
     "start_time": "2025-01-08T22:26:19.559157Z"
    }
   },
   "cell_type": "code",
   "source": "cf_a.dtype",
   "id": "364fe3e3de5ad45d",
   "outputs": [
    {
     "data": {
      "text/plain": [
       "dtype('int64')"
      ]
     },
     "execution_count": 43,
     "metadata": {},
     "output_type": "execute_result"
    }
   ],
   "execution_count": 43
  },
  {
   "metadata": {
    "ExecuteTime": {
     "end_time": "2025-01-08T22:27:01.808264Z",
     "start_time": "2025-01-08T22:27:01.800997Z"
    }
   },
   "cell_type": "code",
   "source": [
    "l = [100, 20.5, 30, 10.7, True, \"Apple\"]\n",
    "l"
   ],
   "id": "aa02f6c7597e522",
   "outputs": [
    {
     "data": {
      "text/plain": [
       "[100, 20.5, 30, 10.7, True, 'Apple']"
      ]
     },
     "execution_count": 44,
     "metadata": {},
     "output_type": "execute_result"
    }
   ],
   "execution_count": 44
  },
  {
   "metadata": {
    "ExecuteTime": {
     "end_time": "2025-01-08T22:27:09.556804Z",
     "start_time": "2025-01-08T22:27:09.551227Z"
    }
   },
   "cell_type": "code",
   "source": [
    "a = np.array(l)\n",
    "a"
   ],
   "id": "8c370b02c9652e8a",
   "outputs": [
    {
     "data": {
      "text/plain": [
       "array(['100', '20.5', '30', '10.7', 'True', 'Apple'], dtype='<U32')"
      ]
     },
     "execution_count": 45,
     "metadata": {},
     "output_type": "execute_result"
    }
   ],
   "execution_count": 45
  },
  {
   "metadata": {
    "ExecuteTime": {
     "end_time": "2025-01-08T22:27:40.972183Z",
     "start_time": "2025-01-08T22:27:40.967871Z"
    }
   },
   "cell_type": "code",
   "source": [
    "for element in a:\n",
    "    print(type(element))"
   ],
   "id": "182a8e0e1615cff2",
   "outputs": [
    {
     "name": "stdout",
     "output_type": "stream",
     "text": [
      "<class 'numpy.str_'>\n",
      "<class 'numpy.str_'>\n",
      "<class 'numpy.str_'>\n",
      "<class 'numpy.str_'>\n",
      "<class 'numpy.str_'>\n",
      "<class 'numpy.str_'>\n"
     ]
    }
   ],
   "execution_count": 46
  },
  {
   "metadata": {},
   "cell_type": "markdown",
   "source": "# Indexing and Slicing Numpy Arrays",
   "id": "7ff69d974e237456"
  },
  {
   "metadata": {
    "ExecuteTime": {
     "end_time": "2025-01-08T22:29:24.088331Z",
     "start_time": "2025-01-08T22:29:24.082651Z"
    }
   },
   "cell_type": "code",
   "source": "import numpy as np",
   "id": "76c6d4cfd85497da",
   "outputs": [],
   "execution_count": 47
  },
  {
   "metadata": {
    "ExecuteTime": {
     "end_time": "2025-01-08T22:29:46.883198Z",
     "start_time": "2025-01-08T22:29:46.877446Z"
    }
   },
   "cell_type": "code",
   "source": [
    "cf = np.array([50, 100, 120, 150, 200, 300])\n",
    "cf"
   ],
   "id": "9ba79f4b7e754f82",
   "outputs": [
    {
     "data": {
      "text/plain": [
       "array([ 50, 100, 120, 150, 200, 300])"
      ]
     },
     "execution_count": 49,
     "metadata": {},
     "output_type": "execute_result"
    }
   ],
   "execution_count": 49
  },
  {
   "metadata": {
    "ExecuteTime": {
     "end_time": "2025-01-08T22:29:52.324567Z",
     "start_time": "2025-01-08T22:29:52.315579Z"
    }
   },
   "cell_type": "code",
   "source": "cf[0]",
   "id": "42b343189cb29b5d",
   "outputs": [
    {
     "data": {
      "text/plain": [
       "np.int64(50)"
      ]
     },
     "execution_count": 50,
     "metadata": {},
     "output_type": "execute_result"
    }
   ],
   "execution_count": 50
  },
  {
   "metadata": {
    "ExecuteTime": {
     "end_time": "2025-01-08T22:29:59.378034Z",
     "start_time": "2025-01-08T22:29:59.371200Z"
    }
   },
   "cell_type": "code",
   "source": "cf[2]",
   "id": "cc5137c8d303aa70",
   "outputs": [
    {
     "data": {
      "text/plain": [
       "np.int64(120)"
      ]
     },
     "execution_count": 51,
     "metadata": {},
     "output_type": "execute_result"
    }
   ],
   "execution_count": 51
  },
  {
   "metadata": {
    "ExecuteTime": {
     "end_time": "2025-01-08T22:30:04.254753Z",
     "start_time": "2025-01-08T22:30:04.248487Z"
    }
   },
   "cell_type": "code",
   "source": "cf[-1]",
   "id": "edb1fea407fa331f",
   "outputs": [
    {
     "data": {
      "text/plain": [
       "np.int64(300)"
      ]
     },
     "execution_count": 52,
     "metadata": {},
     "output_type": "execute_result"
    }
   ],
   "execution_count": 52
  },
  {
   "metadata": {
    "ExecuteTime": {
     "end_time": "2025-01-08T22:30:15.979279Z",
     "start_time": "2025-01-08T22:30:15.972624Z"
    }
   },
   "cell_type": "code",
   "source": "cf[-3]",
   "id": "c232050047b2a43e",
   "outputs": [
    {
     "data": {
      "text/plain": [
       "np.int64(150)"
      ]
     },
     "execution_count": 53,
     "metadata": {},
     "output_type": "execute_result"
    }
   ],
   "execution_count": 53
  },
  {
   "metadata": {
    "ExecuteTime": {
     "end_time": "2025-01-08T22:30:21.299433Z",
     "start_time": "2025-01-08T22:30:21.293249Z"
    }
   },
   "cell_type": "code",
   "source": "cf[2:4]",
   "id": "68409b5da3453eab",
   "outputs": [
    {
     "data": {
      "text/plain": [
       "array([120, 150])"
      ]
     },
     "execution_count": 54,
     "metadata": {},
     "output_type": "execute_result"
    }
   ],
   "execution_count": 54
  },
  {
   "metadata": {
    "ExecuteTime": {
     "end_time": "2025-01-08T22:30:41.932146Z",
     "start_time": "2025-01-08T22:30:41.925700Z"
    }
   },
   "cell_type": "code",
   "source": "cf[:3]",
   "id": "1c6e6eddb8c2c580",
   "outputs": [
    {
     "data": {
      "text/plain": [
       "array([ 50, 100, 120])"
      ]
     },
     "execution_count": 55,
     "metadata": {},
     "output_type": "execute_result"
    }
   ],
   "execution_count": 55
  },
  {
   "metadata": {
    "ExecuteTime": {
     "end_time": "2025-01-08T22:30:53.822263Z",
     "start_time": "2025-01-08T22:30:53.814367Z"
    }
   },
   "cell_type": "code",
   "source": "cf[2:]",
   "id": "8bb8ebf9166f2ed6",
   "outputs": [
    {
     "data": {
      "text/plain": [
       "array([120, 150, 200, 300])"
      ]
     },
     "execution_count": 56,
     "metadata": {},
     "output_type": "execute_result"
    }
   ],
   "execution_count": 56
  },
  {
   "metadata": {
    "ExecuteTime": {
     "end_time": "2025-01-08T22:31:09.703584Z",
     "start_time": "2025-01-08T22:31:09.697852Z"
    }
   },
   "cell_type": "code",
   "source": "cf[:-1]",
   "id": "265346837577ad08",
   "outputs": [
    {
     "data": {
      "text/plain": [
       "array([ 50, 100, 120, 150, 200])"
      ]
     },
     "execution_count": 57,
     "metadata": {},
     "output_type": "execute_result"
    }
   ],
   "execution_count": 57
  },
  {
   "metadata": {
    "ExecuteTime": {
     "end_time": "2025-01-08T22:31:19.075302Z",
     "start_time": "2025-01-08T22:31:19.070967Z"
    }
   },
   "cell_type": "code",
   "source": "cf[-2:]",
   "id": "db149b37dc66a88b",
   "outputs": [
    {
     "data": {
      "text/plain": [
       "array([200, 300])"
      ]
     },
     "execution_count": 58,
     "metadata": {},
     "output_type": "execute_result"
    }
   ],
   "execution_count": 58
  },
  {
   "metadata": {
    "ExecuteTime": {
     "end_time": "2025-01-08T22:31:28.671421Z",
     "start_time": "2025-01-08T22:31:28.665529Z"
    }
   },
   "cell_type": "code",
   "source": "cf[1:5:2]",
   "id": "a9aa412667041305",
   "outputs": [
    {
     "data": {
      "text/plain": [
       "array([100, 150])"
      ]
     },
     "execution_count": 59,
     "metadata": {},
     "output_type": "execute_result"
    }
   ],
   "execution_count": 59
  },
  {
   "metadata": {
    "ExecuteTime": {
     "end_time": "2025-01-08T22:32:33.112933Z",
     "start_time": "2025-01-08T22:32:33.107404Z"
    }
   },
   "cell_type": "code",
   "source": "cf[::-1]",
   "id": "5b1698034927e47",
   "outputs": [
    {
     "data": {
      "text/plain": [
       "array([300, 200, 150, 120, 100,  50])"
      ]
     },
     "execution_count": 60,
     "metadata": {},
     "output_type": "execute_result"
    }
   ],
   "execution_count": 60
  },
  {
   "metadata": {},
   "cell_type": "markdown",
   "source": "# Vectorized Operations with Numpy",
   "id": "3d0d5c0af7e9b05e"
  },
  {
   "metadata": {
    "ExecuteTime": {
     "end_time": "2025-01-08T22:33:04.614636Z",
     "start_time": "2025-01-08T22:33:04.611317Z"
    }
   },
   "cell_type": "code",
   "source": "import numpy as np",
   "id": "e38f93e8710f63d1",
   "outputs": [],
   "execution_count": 61
  },
  {
   "metadata": {
    "ExecuteTime": {
     "end_time": "2025-01-08T22:33:18.340343Z",
     "start_time": "2025-01-08T22:33:18.334090Z"
    }
   },
   "cell_type": "code",
   "source": [
    "cf = np.array([50, 100, 120, 150, 200, 300])\n",
    "cf"
   ],
   "id": "4afd7c8e129ee1f2",
   "outputs": [
    {
     "data": {
      "text/plain": [
       "array([ 50, 100, 120, 150, 200, 300])"
      ]
     },
     "execution_count": 62,
     "metadata": {},
     "output_type": "execute_result"
    }
   ],
   "execution_count": 62
  },
  {
   "metadata": {
    "ExecuteTime": {
     "end_time": "2025-01-08T22:33:25.604870Z",
     "start_time": "2025-01-08T22:33:25.595826Z"
    }
   },
   "cell_type": "code",
   "source": "cf * 1.1",
   "id": "3ce7e9add90e481e",
   "outputs": [
    {
     "data": {
      "text/plain": [
       "array([ 55., 110., 132., 165., 220., 330.])"
      ]
     },
     "execution_count": 63,
     "metadata": {},
     "output_type": "execute_result"
    }
   ],
   "execution_count": 63
  },
  {
   "metadata": {
    "ExecuteTime": {
     "end_time": "2025-01-08T22:33:33.750197Z",
     "start_time": "2025-01-08T22:33:33.745859Z"
    }
   },
   "cell_type": "code",
   "source": "cf + 20",
   "id": "e58eccdcb9610f03",
   "outputs": [
    {
     "data": {
      "text/plain": [
       "array([ 70, 120, 140, 170, 220, 320])"
      ]
     },
     "execution_count": 64,
     "metadata": {},
     "output_type": "execute_result"
    }
   ],
   "execution_count": 64
  },
  {
   "metadata": {
    "ExecuteTime": {
     "end_time": "2025-01-08T22:34:03.964271Z",
     "start_time": "2025-01-08T22:34:03.959696Z"
    }
   },
   "cell_type": "code",
   "source": [
    "cf_add = np.array([10, 20, 5, -10, 20, 10])\n",
    "cf_add"
   ],
   "id": "487f5cfd59118932",
   "outputs": [
    {
     "data": {
      "text/plain": [
       "array([ 10,  20,   5, -10,  20,  10])"
      ]
     },
     "execution_count": 66,
     "metadata": {},
     "output_type": "execute_result"
    }
   ],
   "execution_count": 66
  },
  {
   "metadata": {
    "ExecuteTime": {
     "end_time": "2025-01-08T22:34:22.255172Z",
     "start_time": "2025-01-08T22:34:22.250318Z"
    }
   },
   "cell_type": "code",
   "source": "cf + cf_add",
   "id": "635761bf3e25e748",
   "outputs": [
    {
     "data": {
      "text/plain": [
       "array([ 60, 120, 125, 140, 220, 310])"
      ]
     },
     "execution_count": 67,
     "metadata": {},
     "output_type": "execute_result"
    }
   ],
   "execution_count": 67
  },
  {
   "metadata": {},
   "cell_type": "markdown",
   "source": [
    "The XYZ Company evaluates to buy an additional machine that will increase future profits/cashflows by\n",
    "- 20 USD in t1,\n",
    "- 50 USD in t2,\n",
    "- 70 USD in t3,\n",
    "- 100 USD in t4,\n",
    "- 50 USD in t5. (each cf at period's end)\n",
    "\n",
    "The machine costs 200 USD (Investment in to). Calculate the **Project's NPV** and evaluate whether XYZ should pursue the project.\n",
    "XYZ's required rate of return (Cost of Capital) is 6% p.a."
   ],
   "id": "963b02f680902fec"
  },
  {
   "metadata": {
    "ExecuteTime": {
     "end_time": "2025-01-08T22:38:15.377785Z",
     "start_time": "2025-01-08T22:38:15.372387Z"
    }
   },
   "cell_type": "code",
   "source": [
    "cf = np.array([-200, 20, 50, 70, 100, 50])\n",
    "r = 0.06\n",
    "f = 1 + r"
   ],
   "id": "d73a1998e96e3ab0",
   "outputs": [],
   "execution_count": 68
  },
  {
   "metadata": {
    "ExecuteTime": {
     "end_time": "2025-01-08T22:38:57.432877Z",
     "start_time": "2025-01-08T22:38:57.427915Z"
    }
   },
   "cell_type": "code",
   "source": [
    "n = np.array([0, 1, 2, 3, 4, 5])\n",
    "n"
   ],
   "id": "528840ff4ac933b2",
   "outputs": [
    {
     "data": {
      "text/plain": [
       "array([0, 1, 2, 3, 4, 5])"
      ]
     },
     "execution_count": 69,
     "metadata": {},
     "output_type": "execute_result"
    }
   ],
   "execution_count": 69
  },
  {
   "metadata": {
    "ExecuteTime": {
     "end_time": "2025-01-08T22:39:39.464143Z",
     "start_time": "2025-01-08T22:39:39.458391Z"
    }
   },
   "cell_type": "code",
   "source": "cf / f**n",
   "id": "b6a7756bf37920bd",
   "outputs": [
    {
     "data": {
      "text/plain": [
       "array([-200.        ,   18.86792453,   44.499822  ,   58.77334981,\n",
       "         79.20936632,   37.36290864])"
      ]
     },
     "execution_count": 70,
     "metadata": {},
     "output_type": "execute_result"
    }
   ],
   "execution_count": 70
  },
  {
   "metadata": {
    "ExecuteTime": {
     "end_time": "2025-01-08T22:43:49.116569Z",
     "start_time": "2025-01-08T22:43:49.112286Z"
    }
   },
   "cell_type": "code",
   "source": [
    "pv_array = cf / f**n\n",
    "pv_array"
   ],
   "id": "bab4463194c7e134",
   "outputs": [
    {
     "data": {
      "text/plain": [
       "array([-200.        ,   18.86792453,   44.499822  ,   58.77334981,\n",
       "         79.20936632,   37.36290864])"
      ]
     },
     "execution_count": 71,
     "metadata": {},
     "output_type": "execute_result"
    }
   ],
   "execution_count": 71
  },
  {
   "metadata": {
    "ExecuteTime": {
     "end_time": "2025-01-08T22:44:43.166860Z",
     "start_time": "2025-01-08T22:44:43.161380Z"
    }
   },
   "cell_type": "code",
   "source": [
    "NPV = pv_array.sum()\n",
    "NPV"
   ],
   "id": "24bf1e8301d9b370",
   "outputs": [
    {
     "data": {
      "text/plain": [
       "np.float64(38.71337130837991)"
      ]
     },
     "execution_count": 72,
     "metadata": {},
     "output_type": "execute_result"
    }
   ],
   "execution_count": 72
  },
  {
   "metadata": {
    "ExecuteTime": {
     "end_time": "2025-01-08T22:45:09.283148Z",
     "start_time": "2025-01-08T22:45:09.277784Z"
    }
   },
   "cell_type": "code",
   "source": "(cf / f**n).sum()",
   "id": "c7139f9009f0374a",
   "outputs": [
    {
     "data": {
      "text/plain": [
       "np.float64(38.71337130837991)"
      ]
     },
     "execution_count": 73,
     "metadata": {},
     "output_type": "execute_result"
    }
   ],
   "execution_count": 73
  },
  {
   "metadata": {
    "ExecuteTime": {
     "end_time": "2025-01-08T22:46:30.777128Z",
     "start_time": "2025-01-08T22:46:30.773289Z"
    }
   },
   "cell_type": "code",
   "source": [
    "NPV = 0\n",
    "for i in range(len(cf)):\n",
    "    NPV +=  cf[i] / f**(i)\n",
    "print(NPV)"
   ],
   "id": "4019819613e976e0",
   "outputs": [
    {
     "name": "stdout",
     "output_type": "stream",
     "text": [
      "38.71337130837991\n"
     ]
    }
   ],
   "execution_count": 74
  },
  {
   "metadata": {},
   "cell_type": "markdown",
   "source": "Changing Elements in Numpy Arrays & Mutability",
   "id": "192d19cb8da7c6b8"
  },
  {
   "metadata": {
    "ExecuteTime": {
     "end_time": "2025-01-09T01:17:04.157722Z",
     "start_time": "2025-01-09T01:17:04.154166Z"
    }
   },
   "cell_type": "code",
   "source": "import numpy as np",
   "id": "82e5962fb6ca84e6",
   "outputs": [],
   "execution_count": 75
  },
  {
   "metadata": {
    "ExecuteTime": {
     "end_time": "2025-01-09T01:17:23.310620Z",
     "start_time": "2025-01-09T01:17:23.307232Z"
    }
   },
   "cell_type": "code",
   "source": "cf = np.array([100, 10, 20, 50, 30, 25])",
   "id": "c9e0c987c4d56706",
   "outputs": [],
   "execution_count": 76
  },
  {
   "metadata": {
    "ExecuteTime": {
     "end_time": "2025-01-09T01:17:31.268750Z",
     "start_time": "2025-01-09T01:17:31.265528Z"
    }
   },
   "cell_type": "code",
   "source": "cf[0] = 95",
   "id": "aebbab4a0b015b88",
   "outputs": [],
   "execution_count": 77
  },
  {
   "metadata": {
    "ExecuteTime": {
     "end_time": "2025-01-09T01:17:33.943317Z",
     "start_time": "2025-01-09T01:17:33.935721Z"
    }
   },
   "cell_type": "code",
   "source": "cf",
   "id": "f258fd5da0e87b83",
   "outputs": [
    {
     "data": {
      "text/plain": [
       "array([95, 10, 20, 50, 30, 25])"
      ]
     },
     "execution_count": 78,
     "metadata": {},
     "output_type": "execute_result"
    }
   ],
   "execution_count": 78
  },
  {
   "metadata": {
    "ExecuteTime": {
     "end_time": "2025-01-09T01:17:49.209665Z",
     "start_time": "2025-01-09T01:17:49.203369Z"
    }
   },
   "cell_type": "code",
   "source": "cf[1:] = [40, 40, 40, 40, 40]",
   "id": "4ff39c7bd6473486",
   "outputs": [],
   "execution_count": 79
  },
  {
   "metadata": {
    "ExecuteTime": {
     "end_time": "2025-01-09T01:17:52.723621Z",
     "start_time": "2025-01-09T01:17:52.718535Z"
    }
   },
   "cell_type": "code",
   "source": "cf",
   "id": "633de8181a9a7a1b",
   "outputs": [
    {
     "data": {
      "text/plain": [
       "array([95, 40, 40, 40, 40, 40])"
      ]
     },
     "execution_count": 80,
     "metadata": {},
     "output_type": "execute_result"
    }
   ],
   "execution_count": 80
  },
  {
   "metadata": {
    "ExecuteTime": {
     "end_time": "2025-01-09T01:18:08.546438Z",
     "start_time": "2025-01-09T01:18:08.541807Z"
    }
   },
   "cell_type": "code",
   "source": "cf[1:] = 45",
   "id": "5d4490a1950cf372",
   "outputs": [],
   "execution_count": 83
  },
  {
   "metadata": {
    "ExecuteTime": {
     "end_time": "2025-01-09T01:18:12.596166Z",
     "start_time": "2025-01-09T01:18:12.589325Z"
    }
   },
   "cell_type": "code",
   "source": "cf",
   "id": "7aede793b667872f",
   "outputs": [
    {
     "data": {
      "text/plain": [
       "array([95, 45, 45, 45, 45, 45])"
      ]
     },
     "execution_count": 85,
     "metadata": {},
     "output_type": "execute_result"
    }
   ],
   "execution_count": 85
  },
  {
   "metadata": {
    "ExecuteTime": {
     "end_time": "2025-01-09T01:18:30.698320Z",
     "start_time": "2025-01-09T01:18:30.691767Z"
    }
   },
   "cell_type": "code",
   "source": "cf + 20",
   "id": "a5422298b6d126b4",
   "outputs": [
    {
     "data": {
      "text/plain": [
       "array([115,  65,  65,  65,  65,  65])"
      ]
     },
     "execution_count": 86,
     "metadata": {},
     "output_type": "execute_result"
    }
   ],
   "execution_count": 86
  },
  {
   "metadata": {
    "ExecuteTime": {
     "end_time": "2025-01-09T01:18:36.018881Z",
     "start_time": "2025-01-09T01:18:36.014358Z"
    }
   },
   "cell_type": "code",
   "source": "cf",
   "id": "d212fdecb9cd04ac",
   "outputs": [
    {
     "data": {
      "text/plain": [
       "array([95, 45, 45, 45, 45, 45])"
      ]
     },
     "execution_count": 87,
     "metadata": {},
     "output_type": "execute_result"
    }
   ],
   "execution_count": 87
  },
  {
   "metadata": {
    "ExecuteTime": {
     "end_time": "2025-01-09T01:18:47.255401Z",
     "start_time": "2025-01-09T01:18:47.252660Z"
    }
   },
   "cell_type": "code",
   "source": "cf = cf + 20",
   "id": "bf829f159a62077d",
   "outputs": [],
   "execution_count": 88
  },
  {
   "metadata": {
    "ExecuteTime": {
     "end_time": "2025-01-09T01:18:49.906277Z",
     "start_time": "2025-01-09T01:18:49.901125Z"
    }
   },
   "cell_type": "code",
   "source": "cf",
   "id": "b2fee28985151bf1",
   "outputs": [
    {
     "data": {
      "text/plain": [
       "array([115,  65,  65,  65,  65,  65])"
      ]
     },
     "execution_count": 89,
     "metadata": {},
     "output_type": "execute_result"
    }
   ],
   "execution_count": 89
  },
  {
   "metadata": {
    "ExecuteTime": {
     "end_time": "2025-01-09T01:19:34.879380Z",
     "start_time": "2025-01-09T01:19:34.876546Z"
    }
   },
   "cell_type": "code",
   "source": "cf1 = np.array([100, 10, 20, 50, 30, 25])",
   "id": "678722bcb3bc0c8e",
   "outputs": [],
   "execution_count": 90
  },
  {
   "metadata": {
    "ExecuteTime": {
     "end_time": "2025-01-09T01:42:11.214719Z",
     "start_time": "2025-01-09T01:42:11.211137Z"
    }
   },
   "cell_type": "code",
   "source": "cf2 = cf1",
   "id": "db469fea687375e2",
   "outputs": [],
   "execution_count": 91
  },
  {
   "metadata": {
    "ExecuteTime": {
     "end_time": "2025-01-09T01:42:32.989453Z",
     "start_time": "2025-01-09T01:42:32.986314Z"
    }
   },
   "cell_type": "code",
   "source": "cf1 = np.array([100, 10, 20, 50, 30, 25])",
   "id": "6c1338b3ae7773bb",
   "outputs": [],
   "execution_count": 92
  },
  {
   "metadata": {
    "ExecuteTime": {
     "end_time": "2025-01-09T01:42:44.465280Z",
     "start_time": "2025-01-09T01:42:44.462548Z"
    }
   },
   "cell_type": "code",
   "source": "cf2 = cf1[:]",
   "id": "4c3054e8431734d8",
   "outputs": [],
   "execution_count": 93
  }
 ],
 "metadata": {
  "kernelspec": {
   "display_name": "Python 3",
   "language": "python",
   "name": "python3"
  },
  "language_info": {
   "codemirror_mode": {
    "name": "ipython",
    "version": 2
   },
   "file_extension": ".py",
   "mimetype": "text/x-python",
   "name": "python",
   "nbconvert_exporter": "python",
   "pygments_lexer": "ipython2",
   "version": "2.7.6"
  }
 },
 "nbformat": 4,
 "nbformat_minor": 5
}
